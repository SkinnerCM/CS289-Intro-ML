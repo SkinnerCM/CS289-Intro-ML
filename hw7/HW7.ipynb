{
 "cells": [
  {
   "cell_type": "code",
   "execution_count": 1,
   "id": "b0d55b42",
   "metadata": {},
   "outputs": [],
   "source": [
    "import pandas as pd\n",
    "import numpy as np\n",
    "import scipy.io as sc\n",
    "import scipy.linalg as spl"
   ]
  },
  {
   "cell_type": "markdown",
   "id": "0e39de50",
   "metadata": {},
   "source": [
    "# Q3"
   ]
  },
  {
   "cell_type": "code",
   "execution_count": 2,
   "id": "cb5e075b",
   "metadata": {},
   "outputs": [],
   "source": [
    "data = sc.loadmat('movie_data/movie_train.mat')"
   ]
  },
  {
   "cell_type": "code",
   "execution_count": 63,
   "id": "7a87e13b",
   "metadata": {},
   "outputs": [],
   "source": [
    "R=data['train']"
   ]
  },
  {
   "cell_type": "code",
   "execution_count": 4,
   "id": "fb8fd12f",
   "metadata": {},
   "outputs": [
    {
     "data": {
      "text/plain": [
       "array([[  nan,   nan,   nan, ...,   nan,   nan,   nan],\n",
       "       [-0.15,  1.02,   nan, ...,  1.84,   nan,   nan],\n",
       "       [  nan,   nan,   nan, ...,   nan,   nan,   nan],\n",
       "       ...,\n",
       "       [ 3.25, -7.57,   nan, ...,  2.09,   nan,   nan],\n",
       "       [  nan,  5.53,   nan, ...,  7.57,   nan,   nan],\n",
       "       [ 5.97,  0.63,  3.2 , ...,   nan,   nan,   nan]])"
      ]
     },
     "execution_count": 4,
     "metadata": {},
     "output_type": "execute_result"
    }
   ],
   "source": [
    "data['train']"
   ]
  },
  {
   "cell_type": "code",
   "execution_count": 5,
   "id": "546d86e0",
   "metadata": {},
   "outputs": [],
   "source": [
    "R=np.nan_to_num(data['train'])"
   ]
  },
  {
   "cell_type": "code",
   "execution_count": 6,
   "id": "04418b01",
   "metadata": {},
   "outputs": [],
   "source": [
    "u, d, vh = spl.svd(R, full_matrices=False)"
   ]
  },
  {
   "cell_type": "code",
   "execution_count": 12,
   "id": "ea09c218",
   "metadata": {},
   "outputs": [
    {
     "data": {
      "text/plain": [
       "array([[-5.52383964e-03, -1.86377287e-03,  6.85083810e-03, ...,\n",
       "        -3.68065697e-04,  4.06157622e-04, -6.71894312e-04],\n",
       "       [ 2.12226573e-03, -1.06157981e-02,  4.48796365e-03, ...,\n",
       "         2.48175988e-02,  9.85905753e-03,  7.19020383e-03],\n",
       "       [-5.03002629e-03, -5.62225244e-03, -7.24478362e-05, ...,\n",
       "         7.67326918e-04,  7.50938740e-04, -7.00193183e-04],\n",
       "       ...,\n",
       "       [-1.49927177e-03, -6.07955739e-03, -6.22277111e-03, ...,\n",
       "         9.26815468e-03, -4.80083112e-03,  9.57488029e-03],\n",
       "       [-5.03965308e-03, -1.32618609e-02, -1.45419101e-02, ...,\n",
       "         7.68720613e-03, -3.63248226e-02,  7.96171669e-04],\n",
       "       [-7.30299274e-03, -6.34887733e-03, -2.79313698e-03, ...,\n",
       "         6.62093072e-05,  2.21972097e-04, -3.60930483e-04]])"
      ]
     },
     "execution_count": 12,
     "metadata": {},
     "output_type": "execute_result"
    }
   ],
   "source": [
    "u"
   ]
  },
  {
   "cell_type": "code",
   "execution_count": 13,
   "id": "41e52e8d",
   "metadata": {},
   "outputs": [
    {
     "data": {
      "text/plain": [
       "array([1825.34312613, 1166.65710745,  746.80544859,  730.36780722,\n",
       "        677.68613931,  652.18988177,  614.21409746,  599.35947132,\n",
       "        592.4467152 ,  579.88258253,  568.51224587,  553.90617641,\n",
       "        550.76896072,  549.28297541,  542.45125034,  539.69535221,\n",
       "        535.16626616,  532.7947873 ,  531.07405292,  525.43534118,\n",
       "        522.87757678,  520.58109919,  518.15221713,  516.69925735,\n",
       "        515.49082001,  513.29137081,  508.05670457,  507.6323942 ,\n",
       "        506.10481237,  504.67816697,  502.0539986 ,  499.77573573,\n",
       "        497.814873  ,  496.08217446,  494.45327064,  492.47214934,\n",
       "        490.89060112,  488.38326727,  485.72655018,  483.89675497,\n",
       "        481.79632386,  480.55128703,  478.60019902,  474.78732541,\n",
       "        472.91158556,  470.88964025,  467.7484922 ,  465.25196593,\n",
       "        463.28780241,  460.81365948,  458.17884131,  456.56094636,\n",
       "        454.6379727 ,  453.1939954 ,  452.35128601,  450.82824612,\n",
       "        447.45891141,  444.13940137,  442.32622519,  439.16744467,\n",
       "        437.73142463,  436.17747776,  429.82981707,  427.88222733,\n",
       "        426.64932024,  424.80614149,  417.58099835,  414.48060532,\n",
       "        413.10200022,  410.5859219 ,  398.966082  ,  393.88107615,\n",
       "        392.89249181,  378.93796273,  367.4028188 ,  355.28400714,\n",
       "        351.86651439,  350.35563125,  343.44100877,  340.40552747,\n",
       "        338.60777668,  338.06310195,  334.9064452 ,  330.2822463 ,\n",
       "        329.25147726,  327.26725943,  325.89854039,  322.2475206 ,\n",
       "        318.46680844,  316.75300442,  315.58231266,  311.61721322,\n",
       "        307.99240671,  306.96082817,  305.6925571 ,  302.31713939,\n",
       "        298.4263833 ,  296.49383631,  296.00449289,  290.84548875])"
      ]
     },
     "execution_count": 13,
     "metadata": {},
     "output_type": "execute_result"
    }
   ],
   "source": [
    "d"
   ]
  },
  {
   "cell_type": "code",
   "execution_count": 21,
   "id": "c1cf1d9d",
   "metadata": {},
   "outputs": [
    {
     "data": {
      "text/plain": [
       "array([[-0.07309851,  0.06775241, -0.01030409, ..., -0.01191191,\n",
       "         0.00384078, -0.0227662 ],\n",
       "       [-0.08419607,  0.08100656,  0.07578811, ..., -0.00204491,\n",
       "         0.00086016,  0.00477692],\n",
       "       [-0.07619084,  0.10344889, -0.00755066, ..., -0.01805665,\n",
       "        -0.00403241, -0.00694841],\n",
       "       ...,\n",
       "       [-0.05700053,  0.02177956, -0.08657153, ..., -0.0093796 ,\n",
       "        -0.0323799 ,  0.00972932],\n",
       "       [-0.04153624,  0.05805425, -0.12285959, ..., -0.03891661,\n",
       "         0.03437906,  0.04641625],\n",
       "       [-0.06200458,  0.02225731, -0.09453356, ...,  0.06087734,\n",
       "        -0.07603052, -0.07056496]])"
      ]
     },
     "execution_count": 21,
     "metadata": {},
     "output_type": "execute_result"
    }
   ],
   "source": [
    "vh.T"
   ]
  },
  {
   "cell_type": "code",
   "execution_count": 34,
   "id": "e2275cca",
   "metadata": {},
   "outputs": [
    {
     "data": {
      "text/plain": [
       "-4.269999999999977"
      ]
     },
     "execution_count": 34,
     "metadata": {},
     "output_type": "execute_result"
    }
   ],
   "source": [
    "np.dot(u[2]*d, vh.T[90])"
   ]
  },
  {
   "cell_type": "code",
   "execution_count": 26,
   "id": "8106bf58",
   "metadata": {},
   "outputs": [
    {
     "data": {
      "text/html": [
       "<div>\n",
       "<style scoped>\n",
       "    .dataframe tbody tr th:only-of-type {\n",
       "        vertical-align: middle;\n",
       "    }\n",
       "\n",
       "    .dataframe tbody tr th {\n",
       "        vertical-align: top;\n",
       "    }\n",
       "\n",
       "    .dataframe thead th {\n",
       "        text-align: right;\n",
       "    }\n",
       "</style>\n",
       "<table border=\"1\" class=\"dataframe\">\n",
       "  <thead>\n",
       "    <tr style=\"text-align: right;\">\n",
       "      <th></th>\n",
       "      <th>0</th>\n",
       "      <th>1</th>\n",
       "      <th>2</th>\n",
       "      <th>3</th>\n",
       "      <th>4</th>\n",
       "      <th>5</th>\n",
       "      <th>6</th>\n",
       "      <th>7</th>\n",
       "      <th>8</th>\n",
       "      <th>9</th>\n",
       "      <th>...</th>\n",
       "      <th>90</th>\n",
       "      <th>91</th>\n",
       "      <th>92</th>\n",
       "      <th>93</th>\n",
       "      <th>94</th>\n",
       "      <th>95</th>\n",
       "      <th>96</th>\n",
       "      <th>97</th>\n",
       "      <th>98</th>\n",
       "      <th>99</th>\n",
       "    </tr>\n",
       "  </thead>\n",
       "  <tbody>\n",
       "    <tr>\n",
       "      <th>0</th>\n",
       "      <td>0.00</td>\n",
       "      <td>0.00</td>\n",
       "      <td>0.0</td>\n",
       "      <td>0.00</td>\n",
       "      <td>0.00</td>\n",
       "      <td>-1.50</td>\n",
       "      <td>3.88</td>\n",
       "      <td>0.00</td>\n",
       "      <td>0.00</td>\n",
       "      <td>0.00</td>\n",
       "      <td>...</td>\n",
       "      <td>0.00</td>\n",
       "      <td>0.00</td>\n",
       "      <td>0.00</td>\n",
       "      <td>0.00</td>\n",
       "      <td>0.00</td>\n",
       "      <td>0.00</td>\n",
       "      <td>0.00</td>\n",
       "      <td>0.00</td>\n",
       "      <td>0.0</td>\n",
       "      <td>0.0</td>\n",
       "    </tr>\n",
       "    <tr>\n",
       "      <th>1</th>\n",
       "      <td>-0.15</td>\n",
       "      <td>1.02</td>\n",
       "      <td>0.0</td>\n",
       "      <td>0.00</td>\n",
       "      <td>-1.17</td>\n",
       "      <td>-6.31</td>\n",
       "      <td>0.00</td>\n",
       "      <td>0.58</td>\n",
       "      <td>1.02</td>\n",
       "      <td>0.00</td>\n",
       "      <td>...</td>\n",
       "      <td>0.00</td>\n",
       "      <td>0.00</td>\n",
       "      <td>0.00</td>\n",
       "      <td>0.00</td>\n",
       "      <td>0.00</td>\n",
       "      <td>-5.92</td>\n",
       "      <td>0.00</td>\n",
       "      <td>1.84</td>\n",
       "      <td>0.0</td>\n",
       "      <td>0.0</td>\n",
       "    </tr>\n",
       "    <tr>\n",
       "      <th>2</th>\n",
       "      <td>0.00</td>\n",
       "      <td>0.00</td>\n",
       "      <td>0.0</td>\n",
       "      <td>0.00</td>\n",
       "      <td>-4.27</td>\n",
       "      <td>5.53</td>\n",
       "      <td>0.00</td>\n",
       "      <td>0.00</td>\n",
       "      <td>0.00</td>\n",
       "      <td>0.00</td>\n",
       "      <td>...</td>\n",
       "      <td>-4.27</td>\n",
       "      <td>0.00</td>\n",
       "      <td>0.00</td>\n",
       "      <td>0.00</td>\n",
       "      <td>0.00</td>\n",
       "      <td>0.00</td>\n",
       "      <td>0.00</td>\n",
       "      <td>0.00</td>\n",
       "      <td>0.0</td>\n",
       "      <td>0.0</td>\n",
       "    </tr>\n",
       "    <tr>\n",
       "      <th>3</th>\n",
       "      <td>0.00</td>\n",
       "      <td>0.00</td>\n",
       "      <td>0.0</td>\n",
       "      <td>0.00</td>\n",
       "      <td>0.00</td>\n",
       "      <td>0.00</td>\n",
       "      <td>-7.09</td>\n",
       "      <td>0.00</td>\n",
       "      <td>0.00</td>\n",
       "      <td>0.00</td>\n",
       "      <td>...</td>\n",
       "      <td>0.00</td>\n",
       "      <td>0.00</td>\n",
       "      <td>0.00</td>\n",
       "      <td>0.00</td>\n",
       "      <td>0.00</td>\n",
       "      <td>0.00</td>\n",
       "      <td>0.00</td>\n",
       "      <td>0.00</td>\n",
       "      <td>0.0</td>\n",
       "      <td>0.0</td>\n",
       "    </tr>\n",
       "    <tr>\n",
       "      <th>4</th>\n",
       "      <td>0.00</td>\n",
       "      <td>0.00</td>\n",
       "      <td>0.0</td>\n",
       "      <td>0.00</td>\n",
       "      <td>-9.03</td>\n",
       "      <td>0.00</td>\n",
       "      <td>-8.69</td>\n",
       "      <td>0.00</td>\n",
       "      <td>0.00</td>\n",
       "      <td>0.00</td>\n",
       "      <td>...</td>\n",
       "      <td>0.00</td>\n",
       "      <td>0.00</td>\n",
       "      <td>0.00</td>\n",
       "      <td>0.00</td>\n",
       "      <td>0.00</td>\n",
       "      <td>0.00</td>\n",
       "      <td>0.00</td>\n",
       "      <td>0.00</td>\n",
       "      <td>0.0</td>\n",
       "      <td>0.0</td>\n",
       "    </tr>\n",
       "    <tr>\n",
       "      <th>...</th>\n",
       "      <td>...</td>\n",
       "      <td>...</td>\n",
       "      <td>...</td>\n",
       "      <td>...</td>\n",
       "      <td>...</td>\n",
       "      <td>...</td>\n",
       "      <td>...</td>\n",
       "      <td>...</td>\n",
       "      <td>...</td>\n",
       "      <td>...</td>\n",
       "      <td>...</td>\n",
       "      <td>...</td>\n",
       "      <td>...</td>\n",
       "      <td>...</td>\n",
       "      <td>...</td>\n",
       "      <td>...</td>\n",
       "      <td>...</td>\n",
       "      <td>...</td>\n",
       "      <td>...</td>\n",
       "      <td>...</td>\n",
       "      <td>...</td>\n",
       "    </tr>\n",
       "    <tr>\n",
       "      <th>24978</th>\n",
       "      <td>0.00</td>\n",
       "      <td>0.00</td>\n",
       "      <td>0.0</td>\n",
       "      <td>0.00</td>\n",
       "      <td>0.00</td>\n",
       "      <td>4.32</td>\n",
       "      <td>0.00</td>\n",
       "      <td>-9.03</td>\n",
       "      <td>0.00</td>\n",
       "      <td>0.00</td>\n",
       "      <td>...</td>\n",
       "      <td>0.00</td>\n",
       "      <td>0.00</td>\n",
       "      <td>0.00</td>\n",
       "      <td>0.00</td>\n",
       "      <td>0.00</td>\n",
       "      <td>0.00</td>\n",
       "      <td>0.00</td>\n",
       "      <td>0.00</td>\n",
       "      <td>0.0</td>\n",
       "      <td>0.0</td>\n",
       "    </tr>\n",
       "    <tr>\n",
       "      <th>24979</th>\n",
       "      <td>0.00</td>\n",
       "      <td>0.00</td>\n",
       "      <td>0.0</td>\n",
       "      <td>0.00</td>\n",
       "      <td>-2.72</td>\n",
       "      <td>0.00</td>\n",
       "      <td>0.00</td>\n",
       "      <td>-4.27</td>\n",
       "      <td>0.00</td>\n",
       "      <td>0.00</td>\n",
       "      <td>...</td>\n",
       "      <td>0.00</td>\n",
       "      <td>0.00</td>\n",
       "      <td>0.00</td>\n",
       "      <td>0.00</td>\n",
       "      <td>0.00</td>\n",
       "      <td>-0.78</td>\n",
       "      <td>0.00</td>\n",
       "      <td>0.00</td>\n",
       "      <td>0.0</td>\n",
       "      <td>0.0</td>\n",
       "    </tr>\n",
       "    <tr>\n",
       "      <th>24980</th>\n",
       "      <td>3.25</td>\n",
       "      <td>-7.57</td>\n",
       "      <td>0.0</td>\n",
       "      <td>0.00</td>\n",
       "      <td>0.00</td>\n",
       "      <td>0.00</td>\n",
       "      <td>5.39</td>\n",
       "      <td>3.74</td>\n",
       "      <td>0.00</td>\n",
       "      <td>0.00</td>\n",
       "      <td>...</td>\n",
       "      <td>0.00</td>\n",
       "      <td>-2.62</td>\n",
       "      <td>0.00</td>\n",
       "      <td>-1.94</td>\n",
       "      <td>4.66</td>\n",
       "      <td>0.00</td>\n",
       "      <td>4.61</td>\n",
       "      <td>2.09</td>\n",
       "      <td>0.0</td>\n",
       "      <td>0.0</td>\n",
       "    </tr>\n",
       "    <tr>\n",
       "      <th>24981</th>\n",
       "      <td>0.00</td>\n",
       "      <td>5.53</td>\n",
       "      <td>0.0</td>\n",
       "      <td>-7.52</td>\n",
       "      <td>0.00</td>\n",
       "      <td>5.63</td>\n",
       "      <td>4.47</td>\n",
       "      <td>0.53</td>\n",
       "      <td>-5.44</td>\n",
       "      <td>5.19</td>\n",
       "      <td>...</td>\n",
       "      <td>0.00</td>\n",
       "      <td>0.00</td>\n",
       "      <td>6.84</td>\n",
       "      <td>0.00</td>\n",
       "      <td>0.00</td>\n",
       "      <td>0.00</td>\n",
       "      <td>0.00</td>\n",
       "      <td>7.57</td>\n",
       "      <td>0.0</td>\n",
       "      <td>0.0</td>\n",
       "    </tr>\n",
       "    <tr>\n",
       "      <th>24982</th>\n",
       "      <td>5.97</td>\n",
       "      <td>0.63</td>\n",
       "      <td>3.2</td>\n",
       "      <td>0.00</td>\n",
       "      <td>0.00</td>\n",
       "      <td>0.00</td>\n",
       "      <td>-9.66</td>\n",
       "      <td>-3.83</td>\n",
       "      <td>0.00</td>\n",
       "      <td>-2.52</td>\n",
       "      <td>...</td>\n",
       "      <td>0.00</td>\n",
       "      <td>0.00</td>\n",
       "      <td>0.00</td>\n",
       "      <td>0.00</td>\n",
       "      <td>0.00</td>\n",
       "      <td>0.00</td>\n",
       "      <td>0.00</td>\n",
       "      <td>0.00</td>\n",
       "      <td>0.0</td>\n",
       "      <td>0.0</td>\n",
       "    </tr>\n",
       "  </tbody>\n",
       "</table>\n",
       "<p>24983 rows × 100 columns</p>\n",
       "</div>"
      ],
      "text/plain": [
       "         0     1    2     3     4     5     6     7     8     9   ...    90  \\\n",
       "0      0.00  0.00  0.0  0.00  0.00 -1.50  3.88  0.00  0.00  0.00  ...  0.00   \n",
       "1     -0.15  1.02  0.0  0.00 -1.17 -6.31  0.00  0.58  1.02  0.00  ...  0.00   \n",
       "2      0.00  0.00  0.0  0.00 -4.27  5.53  0.00  0.00  0.00  0.00  ... -4.27   \n",
       "3      0.00  0.00  0.0  0.00  0.00  0.00 -7.09  0.00  0.00  0.00  ...  0.00   \n",
       "4      0.00  0.00  0.0  0.00 -9.03  0.00 -8.69  0.00  0.00  0.00  ...  0.00   \n",
       "...     ...   ...  ...   ...   ...   ...   ...   ...   ...   ...  ...   ...   \n",
       "24978  0.00  0.00  0.0  0.00  0.00  4.32  0.00 -9.03  0.00  0.00  ...  0.00   \n",
       "24979  0.00  0.00  0.0  0.00 -2.72  0.00  0.00 -4.27  0.00  0.00  ...  0.00   \n",
       "24980  3.25 -7.57  0.0  0.00  0.00  0.00  5.39  3.74  0.00  0.00  ...  0.00   \n",
       "24981  0.00  5.53  0.0 -7.52  0.00  5.63  4.47  0.53 -5.44  5.19  ...  0.00   \n",
       "24982  5.97  0.63  3.2  0.00  0.00  0.00 -9.66 -3.83  0.00 -2.52  ...  0.00   \n",
       "\n",
       "         91    92    93    94    95    96    97   98   99  \n",
       "0      0.00  0.00  0.00  0.00  0.00  0.00  0.00  0.0  0.0  \n",
       "1      0.00  0.00  0.00  0.00 -5.92  0.00  1.84  0.0  0.0  \n",
       "2      0.00  0.00  0.00  0.00  0.00  0.00  0.00  0.0  0.0  \n",
       "3      0.00  0.00  0.00  0.00  0.00  0.00  0.00  0.0  0.0  \n",
       "4      0.00  0.00  0.00  0.00  0.00  0.00  0.00  0.0  0.0  \n",
       "...     ...   ...   ...   ...   ...   ...   ...  ...  ...  \n",
       "24978  0.00  0.00  0.00  0.00  0.00  0.00  0.00  0.0  0.0  \n",
       "24979  0.00  0.00  0.00  0.00 -0.78  0.00  0.00  0.0  0.0  \n",
       "24980 -2.62  0.00 -1.94  4.66  0.00  4.61  2.09  0.0  0.0  \n",
       "24981  0.00  6.84  0.00  0.00  0.00  0.00  7.57  0.0  0.0  \n",
       "24982  0.00  0.00  0.00  0.00  0.00  0.00  0.00  0.0  0.0  \n",
       "\n",
       "[24983 rows x 100 columns]"
      ]
     },
     "execution_count": 26,
     "metadata": {},
     "output_type": "execute_result"
    }
   ],
   "source": [
    "pd.DataFrame(R)"
   ]
  },
  {
   "cell_type": "code",
   "execution_count": 76,
   "id": "7905e654",
   "metadata": {},
   "outputs": [],
   "source": [
    "mse = 0\n",
    "for i in range(R.shape[0]):\n",
    "    for j in range(R.shape[1]):\n",
    "    \n",
    "        if not np.isnan(R[i][j]):\n",
    "            mse += (np.dot(user_vecs[i],movie_vecs[j])-R[i][j])**2    "
   ]
  },
  {
   "cell_type": "code",
   "execution_count": 77,
   "id": "09b4face",
   "metadata": {},
   "outputs": [
    {
     "data": {
      "text/plain": [
       "7.692391771921806e-23"
      ]
     },
     "execution_count": 77,
     "metadata": {},
     "output_type": "execute_result"
    }
   ],
   "source": [
    "mse"
   ]
  },
  {
   "cell_type": "code",
   "execution_count": 37,
   "id": "c97b7c81",
   "metadata": {},
   "outputs": [],
   "source": [
    "movie_vecs = vh.T"
   ]
  },
  {
   "cell_type": "code",
   "execution_count": 45,
   "id": "85e04d0e",
   "metadata": {},
   "outputs": [
    {
     "data": {
      "text/plain": [
       "-4.2699999999999765"
      ]
     },
     "execution_count": 45,
     "metadata": {},
     "output_type": "execute_result"
    }
   ],
   "source": [
    "np.dot(user_vecs[2], movie_vecs[90])"
   ]
  },
  {
   "cell_type": "code",
   "execution_count": 46,
   "id": "ed597552",
   "metadata": {},
   "outputs": [
    {
     "data": {
      "text/plain": [
       "(24983, 100)"
      ]
     },
     "execution_count": 46,
     "metadata": {},
     "output_type": "execute_result"
    }
   ],
   "source": [
    "user_vecs.shape"
   ]
  },
  {
   "cell_type": "code",
   "execution_count": 48,
   "id": "35509d82",
   "metadata": {},
   "outputs": [
    {
     "data": {
      "text/plain": [
       "(100, 100)"
      ]
     },
     "execution_count": 48,
     "metadata": {},
     "output_type": "execute_result"
    }
   ],
   "source": [
    "movie_vecs.shape"
   ]
  },
  {
   "cell_type": "code",
   "execution_count": 57,
   "id": "249df9b0",
   "metadata": {},
   "outputs": [
    {
     "data": {
      "text/plain": [
       "1.7676556696111388e-22"
      ]
     },
     "execution_count": 57,
     "metadata": {},
     "output_type": "execute_result"
    }
   ],
   "source": [
    "np.sum((np.matmul(user_vecs,movie_vecs.T)-R)**2)"
   ]
  },
  {
   "cell_type": "code",
   "execution_count": 59,
   "id": "0c6bae6a",
   "metadata": {},
   "outputs": [
    {
     "data": {
      "text/plain": [
       "dict_keys(['__header__', '__version__', '__globals__', 'train'])"
      ]
     },
     "execution_count": 59,
     "metadata": {},
     "output_type": "execute_result"
    }
   ],
   "source": [
    "data.keys()"
   ]
  },
  {
   "cell_type": "code",
   "execution_count": 68,
   "id": "8f731b04",
   "metadata": {},
   "outputs": [
    {
     "data": {
      "text/plain": [
       "True"
      ]
     },
     "execution_count": 68,
     "metadata": {},
     "output_type": "execute_result"
    }
   ],
   "source": [
    "np.isnan(R[0][0])"
   ]
  },
  {
   "cell_type": "code",
   "execution_count": 78,
   "id": "590f937a",
   "metadata": {},
   "outputs": [],
   "source": [
    "# Helper method to get indices of all rated movies for each user,\n",
    "# and indices of all users who have rated that title for each movie\n",
    "def get_rated_idxs(R):\n",
    "    user_rated_idxs, movie_rated_idxs = [], []\n",
    "    for i in range(R.shape[0]):\n",
    "        user_rated_idxs.append(np.argwhere(~np.isnan(R[i, :])).reshape(-1))\n",
    "    for j in range(R.shape[1]):\n",
    "        movie_rated_idxs.append(np.argwhere(~np.isnan(R[:, j])).reshape(-1))\n",
    "    return np.array(user_rated_idxs, dtype=object), np.array(movie_rated_idxs, dtype=object)\n"
   ]
  },
  {
   "cell_type": "code",
   "execution_count": 237,
   "id": "bab95832",
   "metadata": {},
   "outputs": [],
   "source": [
    "# Part (f): Learn better user/movie vector representations by minimizing loss\n",
    "# begin solution\n",
    "best_d = 10 # TODO(f): Use best from part (e)\n",
    "# end solution\n",
    "np.random.seed(20)\n",
    "user_vecs = np.random.random((R.shape[0], best_d))\n",
    "movie_vecs = np.random.random((R.shape[1], best_d))\n",
    "user_rated_idxs, movie_rated_idxs = get_rated_idxs(np.copy(R))"
   ]
  },
  {
   "cell_type": "code",
   "execution_count": 238,
   "id": "09d63414",
   "metadata": {},
   "outputs": [],
   "source": [
    "# Part (f): Function to update user vectors\n",
    "def update_user_vecs(user_vecs, movie_vecs, R, user_rated_idxs):\n",
    "\n",
    "    # Update user_vecs to the loss-minimizing value\n",
    "    ##### TODO(f): Your Code Here #####\n",
    "    for i in range(user_vecs.shape[0]):\n",
    "        \n",
    "        Y = movie_vecs[user_rated_idxs[i]]\n",
    "        Ri = R[i][user_rated_idxs[i]]\n",
    "        YTRi = np.matmul(Y.T,Ri) \n",
    "        inv = np.linalg.inv(np.matmul(Y.T,Y)+np.identity(Y.shape[1]))       \n",
    "        \n",
    "        user_vecs[i] = np.matmul(inv,YTRi)\n",
    "        \n",
    "    return user_vecs"
   ]
  },
  {
   "cell_type": "code",
   "execution_count": 255,
   "id": "fd8f2ece",
   "metadata": {},
   "outputs": [],
   "source": [
    "# Part (f): Function to update user vectors\n",
    "def update_movie_vecs(user_vecs, movie_vecs, R, movie_rated_idxs):\n",
    "\n",
    "    # Update movie_vecs to the loss-minimizing value\n",
    "    ##### TODO(f): Your Code Here #####\n",
    "   \n",
    "    for j in range(movie_vecs.shape[0]):\n",
    "        X = user_vecs[movie_rated_idxs[j]]\n",
    "        Rj = R[movie_rated_idxs[j],j]\n",
    "        XTRj = np.matmul(X.T,Rj) \n",
    "        inv = np.linalg.inv(np.matmul(X.T,X)+np.identity(X.shape[1]))       \n",
    "        \n",
    "        movie_vecs[j] = np.matmul(inv,XTRj)\n",
    "   \n",
    "    return movie_vecs"
   ]
  },
  {
   "cell_type": "code",
   "execution_count": 272,
   "id": "11e37d5d",
   "metadata": {},
   "outputs": [
    {
     "data": {
      "text/plain": [
       "(100, 10)"
      ]
     },
     "execution_count": 272,
     "metadata": {},
     "output_type": "execute_result"
    }
   ],
   "source": [
    "movie_vecs.shape"
   ]
  },
  {
   "cell_type": "code",
   "execution_count": 251,
   "id": "e8d0f4ba",
   "metadata": {},
   "outputs": [
    {
     "data": {
      "text/plain": [
       "(9121,)"
      ]
     },
     "execution_count": 251,
     "metadata": {},
     "output_type": "execute_result"
    }
   ],
   "source": [
    "R[movie_rated_idxs[1],1].shape"
   ]
  },
  {
   "cell_type": "code",
   "execution_count": 256,
   "id": "13cbaa08",
   "metadata": {},
   "outputs": [],
   "source": [
    "user_vecs = update_user_vecs(user_vecs, movie_vecs, R, user_rated_idxs)"
   ]
  },
  {
   "cell_type": "code",
   "execution_count": 257,
   "id": "4cd73f63",
   "metadata": {},
   "outputs": [],
   "source": [
    "movie_vecs = update_movie_vecs(user_vecs, movie_vecs, R, movie_rated_idxs)"
   ]
  },
  {
   "cell_type": "markdown",
   "id": "8eb2f096",
   "metadata": {},
   "source": [
    "# Q4"
   ]
  },
  {
   "cell_type": "code",
   "execution_count": 283,
   "id": "2295d5e1",
   "metadata": {},
   "outputs": [],
   "source": [
    "import pandas as pd\n",
    "from sklearn.decomposition import PCA\n",
    "import matplotlib.pyplot as plt"
   ]
  },
  {
   "cell_type": "code",
   "execution_count": 284,
   "id": "3168817b",
   "metadata": {},
   "outputs": [],
   "source": [
    "def import_world_values_data():\n",
    "    \"\"\"\n",
    "    Reads the world values data into data frames.\n",
    "\n",
    "    Returns:\n",
    "        values_train: world_values responses on the training set\n",
    "        hdi_train: HDI (human development index) on the training set\n",
    "        countries: countries corresponding to indices of values_train\n",
    "    \"\"\"\n",
    "    values_train = pd.read_csv('world-values-train2.csv')\n",
    "    countries = values_train['Country']\n",
    "    values_train = values_train.drop(['Country'], axis=1)\n",
    "    hdi_train = pd.read_csv('world-values-hdi-train2.csv')\n",
    "    hdi_train = hdi_train.drop(['Country'], axis=1)\n",
    "    return values_train, hdi_train, countries"
   ]
  },
  {
   "cell_type": "code",
   "execution_count": 285,
   "id": "43d8e187",
   "metadata": {},
   "outputs": [],
   "source": [
    "def plot_pca(training_features,\n",
    "             training_labels):\n",
    "    \"\"\"\n",
    "    Input:\n",
    "        training_features: world_values responses on the training set\n",
    "        training_labels: HDI (human development index) on the training set\n",
    "        training_classes: HDI class, determined by hdi_classification(), on the training set\n",
    "\n",
    "    Output:\n",
    "        Displays plot of first two PCA dimensions vs HDI\n",
    "        Displays plot of first two PCA dimensions vs HDI, colored by class\n",
    "    \"\"\"\n",
    "    # Run PCA on training_features\n",
    "    ##### TODO(a): Your Code Here #####\n",
    "    pca = PCA(n_components=2)\n",
    "    transformed_features = pca.fit_transform(training_features)\n",
    "\n",
    "    # Plot countries by first two PCA dimensions\n",
    "    plt.scatter(transformed_features[:, 0],     # Select first column\n",
    "                transformed_features[:, 1],     # Select second column\n",
    "                c=training_labels['2015'])\n",
    "    plt.colorbar(label='Human Development Index')\n",
    "    plt.title('Countries by World Values Responses after PCA')\n",
    "    plt.show()\n"
   ]
  },
  {
   "cell_type": "code",
   "execution_count": 286,
   "id": "158b2d53",
   "metadata": {},
   "outputs": [],
   "source": [
    "values_train, hdi_train, countries = import_world_values_data()"
   ]
  },
  {
   "cell_type": "code",
   "execution_count": 287,
   "id": "bf365cc2",
   "metadata": {},
   "outputs": [
    {
     "data": {
      "image/png": "[encoded data removed]",
      "text/plain": [
       "<Figure size 640x480 with 2 Axes>"
      ]
     },
     "metadata": {},
     "output_type": "display_data"
    }
   ],
   "source": [
    "plot_pca(values_train, hdi_train)"
   ]
  },
  {
   "cell_type": "code",
   "execution_count": 292,
   "id": "1eaa5e78",
   "metadata": {},
   "outputs": [],
   "source": [
    "from math import sqrt\n",
    "import matplotlib.pyplot as plt\n",
    "\n",
    "from sklearn.preprocessing import StandardScaler\n",
    "from sklearn.model_selection import GridSearchCV\n",
    "from sklearn.neighbors import NearestNeighbors\n",
    "\n",
    "from world_values_utils import import_world_values_data\n",
    "from world_values_utils import plot_pca\n",
    "\n",
    "from world_values_pipelines import k_nearest_neighbors_regression_pipeline\n",
    "from world_values_parameters import regression_knn_parameters"
   ]
  },
  {
   "cell_type": "code",
   "execution_count": 293,
   "id": "7d5f2af8",
   "metadata": {},
   "outputs": [],
   "source": [
    "nbrs = NearestNeighbors(n_neighbors=8).fit(values_train)"
   ]
  },
  {
   "cell_type": "code",
   "execution_count": 289,
   "id": "2ff94c18",
   "metadata": {},
   "outputs": [
    {
     "data": {
      "text/plain": [
       "'United States'"
      ]
     },
     "execution_count": 289,
     "metadata": {},
     "output_type": "execute_result"
    }
   ],
   "source": [
    "countries[45]"
   ]
  },
  {
   "cell_type": "code",
   "execution_count": 313,
   "id": "424e1c72",
   "metadata": {},
   "outputs": [],
   "source": [
    "us_features = values_train.iloc[[45]]"
   ]
  },
  {
   "cell_type": "code",
   "execution_count": 316,
   "id": "04cdb6f7",
   "metadata": {},
   "outputs": [],
   "source": [
    "distances, indices = nbrs.kneighbors(us_features, 8)"
   ]
  },
  {
   "cell_type": "code",
   "execution_count": 347,
   "id": "10c4801a",
   "metadata": {},
   "outputs": [],
   "source": [
    "seven_nearest = countries[indices[0]].tolist()[1:]"
   ]
  },
  {
   "cell_type": "code",
   "execution_count": 359,
   "id": "fba4f05b",
   "metadata": {},
   "outputs": [
    {
     "name": "stdout",
     "output_type": "stream",
     "text": [
      "Seven nearest neighbors to the US ranked\n",
      "Country:         Distance: \n",
      "Ireland          0.0177\n",
      "United Kingdom   0.0216\n",
      "Belgium          0.0301\n",
      "Finland          0.0302\n",
      "Malta            0.0335\n",
      "Austria          0.0358\n",
      "France           0.0390\n"
     ]
    }
   ],
   "source": [
    "print('Seven nearest neighbors to the US ranked')\n",
    "print(\"Country: \", \"       Distance: \")\n",
    "\n",
    "# Calculate the length of the longest name in list1\n",
    "max_len = max(len(name) for name in seven_nearest)\n",
    "for a, b in zip(seven_nearest, distances[0][1:]):\n",
    "    print(\"{:<{}}   {:.4f}\".format(a, max_len, b))\n",
    "    \n",
    "    "
   ]
  },
  {
   "cell_type": "code",
   "execution_count": 332,
   "id": "ba9cd05d",
   "metadata": {},
   "outputs": [
    {
     "data": {
      "text/plain": [
       "'Ireland'"
      ]
     },
     "execution_count": 332,
     "metadata": {},
     "output_type": "execute_result"
    }
   ],
   "source": [
    "countries[indices[0][1]]"
   ]
  },
  {
   "cell_type": "code",
   "execution_count": null,
   "id": "f6b3b095",
   "metadata": {},
   "outputs": [],
   "source": []
  }
 ],
 "metadata": {
  "kernelspec": {
   "display_name": "Python 3 (ipykernel)",
   "language": "python",
   "name": "python3"
  },
  "language_info": {
   "codemirror_mode": {
    "name": "ipython",
    "version": 3
   },
   "file_extension": ".py",
   "mimetype": "text/x-python",
   "name": "python",
   "nbconvert_exporter": "python",
   "pygments_lexer": "ipython3",
   "version": "3.7.15"
  }
 },
 "nbformat": 4,
 "nbformat_minor": 5
}
