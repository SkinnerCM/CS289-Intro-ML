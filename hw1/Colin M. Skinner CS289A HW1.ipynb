{
 "cells": [
  {
   "cell_type": "code",
   "execution_count": 1,
   "id": "3ba8bc57",
   "metadata": {},
   "outputs": [],
   "source": [
    "import pandas as pd\n",
    "import numpy as np\n",
    "import matplotlib.pyplot as plt#inputs are the training data, the labels and the number of training datapoints to use for validation\n",
    "def data_partition(data,labels,n_validation):\n",
    "    rows = np.linspace(0,len(labels)-1,len(labels),dtype=int)\n",
    "    np.random.shuffle(rows)\n",
    "    \n",
    "    n_training = len(data) - n_validation\n",
    "    \n",
    "    train_data = data[rows[:n_training]]\n",
    "    train_labels = labels[rows[:n_training]]\n",
    "    \n",
    "    val_data = data[rows[n_training:]]\n",
    "    val_labels = labels[rows[n_training:]]\n",
    "    \n",
    "    return train_data,train_labels,val_data,val_labels\n",
    "import sklearn.svm as svm\n",
    "from sklearn.metrics import accuracy_score as score\n",
    "%matplotlib inline"
   ]
  },
  {
   "cell_type": "code",
   "execution_count": 2,
   "id": "66a9fd79",
   "metadata": {},
   "outputs": [],
   "source": [
    "#inputs are the training data, the labels and the number of training datapoints to use for validation\n",
    "def data_partition(data,labels,n_validation):\n",
    "    rows = np.linspace(0,len(labels)-1,len(labels),dtype=int)\n",
    "    np.random.shuffle(rows)\n",
    "    \n",
    "    n_training = len(data) - n_validation\n",
    "    \n",
    "    train_data = data[rows[:n_training]]\n",
    "    train_labels = labels[rows[:n_training]]\n",
    "    \n",
    "    val_data = data[rows[n_training:]]\n",
    "    val_labels = labels[rows[n_training:]]\n",
    "    \n",
    "    return train_data,train_labels,val_data,val_labels"
   ]
  },
  {
   "cell_type": "markdown",
   "id": "224eaa67",
   "metadata": {},
   "source": [
    "## a) Partitioning MNIST dataset"
   ]
  },
  {
   "cell_type": "code",
   "execution_count": 3,
   "id": "ea0653ff",
   "metadata": {},
   "outputs": [],
   "source": [
    "mnist = np.load('data/mnist-data.npz')"
   ]
  },
  {
   "cell_type": "code",
   "execution_count": 4,
   "id": "75ab998d",
   "metadata": {},
   "outputs": [
    {
     "data": {
      "text/plain": [
       "['training_data', 'test_data', 'training_labels']"
      ]
     },
     "execution_count": 4,
     "metadata": {},
     "output_type": "execute_result"
    }
   ],
   "source": [
    "mnist.files"
   ]
  },
  {
   "cell_type": "code",
   "execution_count": 5,
   "id": "df7f5e03",
   "metadata": {},
   "outputs": [
    {
     "data": {
      "text/plain": [
       "(60000, 1, 28, 28)"
      ]
     },
     "execution_count": 5,
     "metadata": {},
     "output_type": "execute_result"
    }
   ],
   "source": [
    "mnist['training_data'].shape"
   ]
  },
  {
   "cell_type": "code",
   "execution_count": 6,
   "id": "a046c2ea",
   "metadata": {},
   "outputs": [],
   "source": [
    "#Need to reshape the data to have the images be row vectors\n",
    "mnist_data=mnist['training_data'].reshape(60000,784)"
   ]
  },
  {
   "cell_type": "code",
   "execution_count": 7,
   "id": "cf2612bc",
   "metadata": {},
   "outputs": [],
   "source": [
    "mnist_t_data,mnist_t_labels,mnist_v_data,mnist_v_labels = data_partition(mnist_data, \n",
    "                                                                         mnist['training_labels'], 10000)"
   ]
  },
  {
   "cell_type": "code",
   "execution_count": 8,
   "id": "43092783",
   "metadata": {},
   "outputs": [
    {
     "name": "stdout",
     "output_type": "stream",
     "text": [
      "training/input :  50000\n",
      "validation/input :  10000\n"
     ]
    }
   ],
   "source": [
    "#check that training and validation sizes are correct\n",
    "print('training/input : ',len(mnist_t_data))\n",
    "print('validation/input : ',len(mnist_v_data))"
   ]
  },
  {
   "cell_type": "markdown",
   "id": "37113336",
   "metadata": {},
   "source": [
    "## b) Partitioning spam dataset"
   ]
  },
  {
   "cell_type": "code",
   "execution_count": 9,
   "id": "8c488d30",
   "metadata": {},
   "outputs": [],
   "source": [
    "spam = np.load('data/spam-data.npz')"
   ]
  },
  {
   "cell_type": "code",
   "execution_count": 10,
   "id": "ca38833f",
   "metadata": {},
   "outputs": [
    {
     "data": {
      "text/plain": [
       "['training_data', 'training_labels', 'test_data']"
      ]
     },
     "execution_count": 10,
     "metadata": {},
     "output_type": "execute_result"
    }
   ],
   "source": [
    "spam.files"
   ]
  },
  {
   "cell_type": "code",
   "execution_count": 11,
   "id": "61be18e2",
   "metadata": {},
   "outputs": [],
   "source": [
    "spam_t_data,spam_t_labels,spam_v_data,spam_v_labels = data_partition(spam['training_data'],spam['training_labels'],\n",
    "                                                                     round(0.2*len(spam['training_labels'])))"
   ]
  },
  {
   "cell_type": "code",
   "execution_count": 12,
   "id": "d7c97aa2",
   "metadata": {},
   "outputs": [
    {
     "name": "stdout",
     "output_type": "stream",
     "text": [
      "training/input :  0.8000958772770853\n",
      "validation/input :  0.19990412272291466\n"
     ]
    }
   ],
   "source": [
    "#check that training and validation sizes are correct\n",
    "print('training/input : ',len(spam_t_data)/len(spam['training_data']))\n",
    "print('validation/input : ',len(spam_v_data)/len(spam['training_data']))"
   ]
  },
  {
   "cell_type": "markdown",
   "id": "af8ce6e2",
   "metadata": {},
   "source": [
    "## c) Partitioning CIFAR-10 dataset"
   ]
  },
  {
   "cell_type": "code",
   "execution_count": 13,
   "id": "f23d18e0",
   "metadata": {},
   "outputs": [],
   "source": [
    "cifar = np.load('data/cifar10-data.npz')"
   ]
  },
  {
   "cell_type": "code",
   "execution_count": 14,
   "id": "60e17fce",
   "metadata": {},
   "outputs": [
    {
     "data": {
      "text/plain": [
       "['training_data', 'test_data', 'training_labels']"
      ]
     },
     "execution_count": 14,
     "metadata": {},
     "output_type": "execute_result"
    }
   ],
   "source": [
    "cifar.files"
   ]
  },
  {
   "cell_type": "code",
   "execution_count": 15,
   "id": "a8d3b1d0",
   "metadata": {},
   "outputs": [],
   "source": [
    "cifar_t_data, cifar_t_labels, cifar_v_data, cifar_v_labels = data_partition(cifar['training_data'],\n",
    "                                                                            cifar['training_labels'],5000)"
   ]
  },
  {
   "cell_type": "code",
   "execution_count": 16,
   "id": "6c49048a",
   "metadata": {},
   "outputs": [
    {
     "name": "stdout",
     "output_type": "stream",
     "text": [
      "training data length:  45000\n",
      "validation data length:  5000\n"
     ]
    }
   ],
   "source": [
    "#check that training and validation sizes are correct\n",
    "print('training data length: ',len(cifar_t_data))\n",
    "print('validation data length: ',len(cifar_v_data))"
   ]
  },
  {
   "cell_type": "markdown",
   "id": "4d544faf",
   "metadata": {},
   "source": [
    "# Q3"
   ]
  },
  {
   "cell_type": "code",
   "execution_count": 17,
   "id": "0c0d5fe4",
   "metadata": {},
   "outputs": [],
   "source": [
    "# This function is for the SVC model; kernel can be selected. Takes in traing and validation sets, returns prediction\n",
    "# scores for both\n",
    "def sk_svm(t_data, t_labels,v_data,v_labels, batch_sizes, c=1,kernel='linear',degree=2):\n",
    "    \n",
    "    t_scores = []\n",
    "    v_scores = []\n",
    "    for n in batch_sizes:\n",
    "        clf=svm.SVC(C=c, kernel=kernel)\n",
    "        clf.fit(t_data[:n], t_labels[:n])\n",
    "        t_scores += [score(clf.predict(t_data),t_labels)]\n",
    "        v_scores += [score(clf.predict(v_data),v_labels)]\n",
    "    return t_scores, v_scores"
   ]
  },
  {
   "cell_type": "code",
   "execution_count": 18,
   "id": "3def2332",
   "metadata": {},
   "outputs": [],
   "source": [
    "#This function is just for the plots for Q3\n",
    "def accuracy_plot(batch, t_scores, v_scores, dataset):\n",
    "    plt.figure(figsize=(6,5))\n",
    "    plt.plot(batch, t_scores,label='Training')\n",
    "    plt.plot(batch, v_scores,label='Validation')\n",
    "    plt.title('SVM Accuracy for {}'.format(dataset))\n",
    "    plt.xlabel('Training batch size')\n",
    "    plt.ylabel('Accuracy')\n",
    "    plt.legend()\n",
    "    plt.savefig('Q3_{}_plot'.format(dataset), dpi=300)"
   ]
  },
  {
   "cell_type": "markdown",
   "id": "91d8c50e",
   "metadata": {},
   "source": [
    "## a)"
   ]
  },
  {
   "cell_type": "code",
   "execution_count": 19,
   "id": "6a537363",
   "metadata": {},
   "outputs": [],
   "source": [
    "batch = [100,200,500,1000,2000,5000,10000]"
   ]
  },
  {
   "cell_type": "code",
   "execution_count": 20,
   "id": "537b475f",
   "metadata": {},
   "outputs": [],
   "source": [
    "mnist_t_scores, mnist_v_scores = sk_svm(mnist_t_data,mnist_t_labels, mnist_v_data, mnist_v_labels, batch, c=1)"
   ]
  },
  {
   "cell_type": "code",
   "execution_count": 21,
   "id": "5a2f707e",
   "metadata": {},
   "outputs": [
    {
     "data": {
      "text/plain": [
       "[0.7482, 0.79746, 0.8582, 0.8761, 0.89758, 0.91316, 0.93018]"
      ]
     },
     "execution_count": 21,
     "metadata": {},
     "output_type": "execute_result"
    }
   ],
   "source": [
    "mnist_t_scores"
   ]
  },
  {
   "cell_type": "code",
   "execution_count": 51,
   "id": "e369d056",
   "metadata": {},
   "outputs": [
    {
     "data": {
      "image/png": "[encoded data removed]",
      "text/plain": [
       "<Figure size 600x500 with 1 Axes>"
      ]
     },
     "metadata": {},
     "output_type": "display_data"
    }
   ],
   "source": [
    "accuracy_plot(batch,mnist_t_scores,mnist_v_scores, 'MNIST')"
   ]
  },
  {
   "cell_type": "markdown",
   "id": "f13dcdf3",
   "metadata": {},
   "source": [
    "## b)"
   ]
  },
  {
   "cell_type": "code",
   "execution_count": 86,
   "id": "cd24717c",
   "metadata": {},
   "outputs": [],
   "source": [
    "batch=[100,200,500,1000,2000,len(spam_t_data)]"
   ]
  },
  {
   "cell_type": "code",
   "execution_count": 65,
   "id": "0c6952e2",
   "metadata": {},
   "outputs": [],
   "source": [
    "spam_t_scores, spam_v_scores = sk_svm(spam_t_data,spam_t_labels,spam_v_data,spam_v_labels,batch)"
   ]
  },
  {
   "cell_type": "code",
   "execution_count": 66,
   "id": "0076c083",
   "metadata": {},
   "outputs": [
    {
     "data": {
      "text/plain": [
       "[0.7314148681055156,\n",
       " 0.7170263788968825,\n",
       " 0.7709832134292566,\n",
       " 0.7925659472422062,\n",
       " 0.7925659472422062,\n",
       " 0.8069544364508393]"
      ]
     },
     "execution_count": 66,
     "metadata": {},
     "output_type": "execute_result"
    }
   ],
   "source": [
    "spam_v_scores"
   ]
  },
  {
   "cell_type": "code",
   "execution_count": 67,
   "id": "db9a0681",
   "metadata": {},
   "outputs": [
    {
     "data": {
      "image/png": "[encoded data removed]",
      "text/plain": [
       "<Figure size 600x500 with 1 Axes>"
      ]
     },
     "metadata": {},
     "output_type": "display_data"
    }
   ],
   "source": [
    "accuracy_plot(batch,spam_t_scores,spam_v_scores, 'Spam')"
   ]
  },
  {
   "cell_type": "markdown",
   "id": "bd933db6",
   "metadata": {},
   "source": [
    "## c)"
   ]
  },
  {
   "cell_type": "code",
   "execution_count": 72,
   "id": "4f3b1c55",
   "metadata": {},
   "outputs": [],
   "source": [
    "batch=[100,200,500,1000,2000,5000]"
   ]
  },
  {
   "cell_type": "code",
   "execution_count": 73,
   "id": "78d6e9d1",
   "metadata": {},
   "outputs": [],
   "source": [
    "cifar_t_scores, cifar_v_scores = sk_svm(cifar_t_data, cifar_t_labels, cifar_v_data, cifar_v_labels,batch)"
   ]
  },
  {
   "cell_type": "code",
   "execution_count": 74,
   "id": "cf4e3f39",
   "metadata": {},
   "outputs": [
    {
     "data": {
      "image/png": "[encoded data removed]",
      "text/plain": [
       "<Figure size 600x500 with 1 Axes>"
      ]
     },
     "metadata": {},
     "output_type": "display_data"
    }
   ],
   "source": [
    "accuracy_plot(batch,cifar_t_scores,cifar_v_scores, 'CIFAR-10')"
   ]
  },
  {
   "cell_type": "markdown",
   "id": "923e05fd",
   "metadata": {},
   "source": [
    "# Q4 Hyperparameter tuning"
   ]
  },
  {
   "cell_type": "code",
   "execution_count": 91,
   "id": "2f0f76f4",
   "metadata": {},
   "outputs": [],
   "source": [
    "C=[10**n for n in np.linspace(-4,4,9)]"
   ]
  },
  {
   "cell_type": "code",
   "execution_count": 96,
   "id": "9d873a0a",
   "metadata": {},
   "outputs": [],
   "source": [
    "def linear_svm(t_data, t_labels,v_data,v_labels, c=1):\n",
    "    \n",
    "    clf=svm.LinearSVC(dual=False, C=c)\n",
    "    clf.fit(t_data, t_labels)\n",
    "    \n",
    "    return score(clf.predict(v_data),v_labels)"
   ]
  },
  {
   "cell_type": "code",
   "execution_count": 97,
   "id": "42148bc2",
   "metadata": {},
   "outputs": [
    {
     "data": {
      "text/plain": [
       "50000"
      ]
     },
     "execution_count": 97,
     "metadata": {},
     "output_type": "execute_result"
    }
   ],
   "source": [
    "len(mnist_t_data)"
   ]
  },
  {
   "cell_type": "code",
   "execution_count": 98,
   "id": "4cc4ae2f",
   "metadata": {},
   "outputs": [
    {
     "name": "stderr",
     "output_type": "stream",
     "text": [
      "C:\\Users\\Colin\\Anaconda3\\envs\\python38\\lib\\site-packages\\sklearn\\svm\\_base.py:1244: ConvergenceWarning: Liblinear failed to converge, increase the number of iterations.\n",
      "  warnings.warn(\n",
      "C:\\Users\\Colin\\Anaconda3\\envs\\python38\\lib\\site-packages\\sklearn\\svm\\_base.py:1244: ConvergenceWarning: Liblinear failed to converge, increase the number of iterations.\n",
      "  warnings.warn(\n"
     ]
    }
   ],
   "source": [
    "accuracies = []\n",
    "for c in C:\n",
    "    accuracies+=[linear_svm(mnist_t_data[:10000], mnist_t_labels[:10000],mnist_v_data,mnist_v_labels, c=c)]"
   ]
  },
  {
   "cell_type": "code",
   "execution_count": 104,
   "id": "988c413f",
   "metadata": {},
   "outputs": [],
   "source": [
    "from math import log10"
   ]
  },
  {
   "cell_type": "code",
   "execution_count": 105,
   "id": "c91b819e",
   "metadata": {},
   "outputs": [],
   "source": [
    "log_C=[log10(c) for c in C]"
   ]
  },
  {
   "cell_type": "code",
   "execution_count": 114,
   "id": "77235f5d",
   "metadata": {},
   "outputs": [
    {
     "data": {
      "image/png": "[encoded data removed]",
      "text/plain": [
       "<Figure size 600x500 with 1 Axes>"
      ]
     },
     "metadata": {},
     "output_type": "display_data"
    }
   ],
   "source": [
    "plt.figure(figsize=(6,5))\n",
    "plt.plot(log_C, accuracies,c='orange', label = 'validation set')\n",
    "plt.title('Linear SVM Accuracy for MNIST for C hyperparamter')\n",
    "plt.xlabel('log(C)')\n",
    "plt.ylabel('Accuracy')\n",
    "plt.legend()\n",
    "plt.savefig('Q4_tuning_plot', dpi=300)"
   ]
  },
  {
   "cell_type": "markdown",
   "id": "e44dcbf1",
   "metadata": {},
   "source": [
    "# Q5"
   ]
  },
  {
   "cell_type": "code",
   "execution_count": 22,
   "id": "89a57d30",
   "metadata": {},
   "outputs": [],
   "source": [
    "# This function takes in a dataset with labels, shuffles them both randomly, then partitions the data into k sets of equal size\n",
    "# It returns a list of k tuples containing training data and its corresponding labels\n",
    "\n",
    "def kfold_partition(data,labels,k_fold):\n",
    "    rows = np.linspace(0,len(labels)-1,len(labels),dtype=int)\n",
    "    np.random.shuffle(rows)\n",
    "    \n",
    "    data_partition = np.array_split(data[rows],k_fold)\n",
    "    label_partition = np.array_split(labels[rows],k_fold)\n",
    "    \n",
    "    partitions = []\n",
    "    \n",
    "    for i in range(k_fold):\n",
    "        partitions+=[(list(data_partition[i]),list(label_partition[i]))]\n",
    "   \n",
    "    return partitions"
   ]
  },
  {
   "cell_type": "code",
   "execution_count": 132,
   "id": "501228ea",
   "metadata": {},
   "outputs": [],
   "source": [
    "partitions = kfold_partition(spam['training_data'],spam['training_labels'],5)"
   ]
  },
  {
   "cell_type": "code",
   "execution_count": 227,
   "id": "7ba97921",
   "metadata": {},
   "outputs": [],
   "source": [
    "# This function takes in partitioned data and returns an average accuracy score.\n",
    "# The CV number depends on the number of partitions of the passed-in data\n",
    "\n",
    "def kfold_cv(data,c):\n",
    "    \n",
    "    cv_accuracy=[]\n",
    "    \n",
    "    \n",
    "    for i in range(len(data)):\n",
    "        # generate the validation set; each set is the validation set once\n",
    "        v_data = np.array(data[i][0])\n",
    "        v_labels = np.array(data[i][1])\n",
    "        \n",
    "        # initialize a list for the training sets\n",
    "        t_data=[]\n",
    "        t_labels=[]\n",
    "        \n",
    "        # combined the partitions from the passed-in data, so long as the partition is not the validation set\n",
    "        for j in range(len(data)):\n",
    "            t_data += [x for x in data[j][0] if j != i]\n",
    "            t_labels += [y for y in data[j][1] if j!= i]\n",
    "            \n",
    "        # train an svm and predict on the validation set; get the accuracy\n",
    "        cv_accuracy+=[linear_svm(t_data, t_labels,v_data,v_labels, c=c)]\n",
    "        \n",
    "    return sum(cv_accuracy)/len(cv_accuracy)"
   ]
  },
  {
   "cell_type": "code",
   "execution_count": 228,
   "id": "b9296a92",
   "metadata": {},
   "outputs": [],
   "source": [
    "#generate 12 possible values for the C hyperparamater\n",
    "C=[10**n for n in np.linspace(-6,6,13)]\n",
    "\n",
    "#get the logs of the Cs for plotting\n",
    "log_C=[log10(c) for c in C]"
   ]
  },
  {
   "cell_type": "code",
   "execution_count": 229,
   "id": "900dda87",
   "metadata": {},
   "outputs": [],
   "source": [
    "# get the CV accuracies for each of the C values\n",
    "accuracies=[]\n",
    "\n",
    "for c in C:\n",
    "    accuracies+=[kfold_cv(partitions,c=c)]"
   ]
  },
  {
   "cell_type": "code",
   "execution_count": 230,
   "id": "0bdeb79c",
   "metadata": {},
   "outputs": [
    {
     "data": {
      "image/png": "[encoded data removed]",
      "text/plain": [
       "<Figure size 600x500 with 1 Axes>"
      ]
     },
     "metadata": {},
     "output_type": "display_data"
    }
   ],
   "source": [
    "plt.figure(figsize=(6,5))\n",
    "plt.plot(log_C, accuracies,c='orange', label = 'validation set')\n",
    "plt.title('Linear SVM Accuracy for Spam for C hyperparamter w/ 5-fold CV')\n",
    "plt.xlabel('log(C)')\n",
    "plt.ylabel('Accuracy')\n",
    "plt.legend()\n",
    "plt.savefig('Q5_k-fold_tuning_plot', dpi=300)"
   ]
  },
  {
   "cell_type": "markdown",
   "id": "be37abbf",
   "metadata": {},
   "source": [
    "# Q6"
   ]
  },
  {
   "cell_type": "markdown",
   "id": "0bf8aea6",
   "metadata": {},
   "source": [
    "## MNIST"
   ]
  },
  {
   "cell_type": "code",
   "execution_count": 352,
   "id": "fabcda63",
   "metadata": {},
   "outputs": [],
   "source": [
    "mnist_t_data,mnist_t_labels,mnist_v_data,mnist_v_labels = data_partition(mnist_data, \n",
    "                                                                         mnist['training_labels'], 10000)"
   ]
  },
  {
   "cell_type": "code",
   "execution_count": 373,
   "id": "b765c288",
   "metadata": {},
   "outputs": [],
   "source": [
    "predictor,mnist_t_scores, mnist_v_scores = sk_svm(mnist_t_data,mnist_t_labels, mnist_v_data, mnist_v_labels, [200], c=200,kernel='rbf')"
   ]
  },
  {
   "cell_type": "code",
   "execution_count": 374,
   "id": "42da40f3",
   "metadata": {},
   "outputs": [
    {
     "data": {
      "text/plain": [
       "[0.8186]"
      ]
     },
     "execution_count": 374,
     "metadata": {},
     "output_type": "execute_result"
    }
   ],
   "source": [
    "mnist_v_scores"
   ]
  },
  {
   "cell_type": "code",
   "execution_count": 309,
   "id": "b3db6de5",
   "metadata": {},
   "outputs": [
    {
     "data": {
      "text/plain": [
       "[0.9829]"
      ]
     },
     "execution_count": 309,
     "metadata": {},
     "output_type": "execute_result"
    }
   ],
   "source": [
    "mnist_v_scores"
   ]
  },
  {
   "cell_type": "markdown",
   "id": "92fdb8ad",
   "metadata": {},
   "source": [
    "#### Got an accuracy of 0.9829 training on 50,000 samples. For the final model for Kaggle will train on the entire training set"
   ]
  },
  {
   "cell_type": "code",
   "execution_count": 313,
   "id": "2a8403ca",
   "metadata": {},
   "outputs": [
    {
     "data": {
      "text/plain": [
       "60000"
      ]
     },
     "execution_count": 313,
     "metadata": {},
     "output_type": "execute_result"
    }
   ],
   "source": [
    "len(mnist_data)"
   ]
  },
  {
   "cell_type": "code",
   "execution_count": 375,
   "id": "8795b1a3",
   "metadata": {},
   "outputs": [
    {
     "data": {
      "text/html": [
       "<style>#sk-container-id-3 {color: black;background-color: white;}#sk-container-id-3 pre{padding: 0;}#sk-container-id-3 div.sk-toggleable {background-color: white;}#sk-container-id-3 label.sk-toggleable__label {cursor: pointer;display: block;width: 100%;margin-bottom: 0;padding: 0.3em;box-sizing: border-box;text-align: center;}#sk-container-id-3 label.sk-toggleable__label-arrow:before {content: \"▸\";float: left;margin-right: 0.25em;color: #696969;}#sk-container-id-3 label.sk-toggleable__label-arrow:hover:before {color: black;}#sk-container-id-3 div.sk-estimator:hover label.sk-toggleable__label-arrow:before {color: black;}#sk-container-id-3 div.sk-toggleable__content {max-height: 0;max-width: 0;overflow: hidden;text-align: left;background-color: #f0f8ff;}#sk-container-id-3 div.sk-toggleable__content pre {margin: 0.2em;color: black;border-radius: 0.25em;background-color: #f0f8ff;}#sk-container-id-3 input.sk-toggleable__control:checked~div.sk-toggleable__content {max-height: 200px;max-width: 100%;overflow: auto;}#sk-container-id-3 input.sk-toggleable__control:checked~label.sk-toggleable__label-arrow:before {content: \"▾\";}#sk-container-id-3 div.sk-estimator input.sk-toggleable__control:checked~label.sk-toggleable__label {background-color: #d4ebff;}#sk-container-id-3 div.sk-label input.sk-toggleable__control:checked~label.sk-toggleable__label {background-color: #d4ebff;}#sk-container-id-3 input.sk-hidden--visually {border: 0;clip: rect(1px 1px 1px 1px);clip: rect(1px, 1px, 1px, 1px);height: 1px;margin: -1px;overflow: hidden;padding: 0;position: absolute;width: 1px;}#sk-container-id-3 div.sk-estimator {font-family: monospace;background-color: #f0f8ff;border: 1px dotted black;border-radius: 0.25em;box-sizing: border-box;margin-bottom: 0.5em;}#sk-container-id-3 div.sk-estimator:hover {background-color: #d4ebff;}#sk-container-id-3 div.sk-parallel-item::after {content: \"\";width: 100%;border-bottom: 1px solid gray;flex-grow: 1;}#sk-container-id-3 div.sk-label:hover label.sk-toggleable__label {background-color: #d4ebff;}#sk-container-id-3 div.sk-serial::before {content: \"\";position: absolute;border-left: 1px solid gray;box-sizing: border-box;top: 0;bottom: 0;left: 50%;z-index: 0;}#sk-container-id-3 div.sk-serial {display: flex;flex-direction: column;align-items: center;background-color: white;padding-right: 0.2em;padding-left: 0.2em;position: relative;}#sk-container-id-3 div.sk-item {position: relative;z-index: 1;}#sk-container-id-3 div.sk-parallel {display: flex;align-items: stretch;justify-content: center;background-color: white;position: relative;}#sk-container-id-3 div.sk-item::before, #sk-container-id-3 div.sk-parallel-item::before {content: \"\";position: absolute;border-left: 1px solid gray;box-sizing: border-box;top: 0;bottom: 0;left: 50%;z-index: -1;}#sk-container-id-3 div.sk-parallel-item {display: flex;flex-direction: column;z-index: 1;position: relative;background-color: white;}#sk-container-id-3 div.sk-parallel-item:first-child::after {align-self: flex-end;width: 50%;}#sk-container-id-3 div.sk-parallel-item:last-child::after {align-self: flex-start;width: 50%;}#sk-container-id-3 div.sk-parallel-item:only-child::after {width: 0;}#sk-container-id-3 div.sk-dashed-wrapped {border: 1px dashed gray;margin: 0 0.4em 0.5em 0.4em;box-sizing: border-box;padding-bottom: 0.4em;background-color: white;}#sk-container-id-3 div.sk-label label {font-family: monospace;font-weight: bold;display: inline-block;line-height: 1.2em;}#sk-container-id-3 div.sk-label-container {text-align: center;}#sk-container-id-3 div.sk-container {/* jupyter's `normalize.less` sets `[hidden] { display: none; }` but bootstrap.min.css set `[hidden] { display: none !important; }` so we also need the `!important` here to be able to override the default hidden behavior on the sphinx rendered scikit-learn.org. See: https://github.com/scikit-learn/scikit-learn/issues/21755 */display: inline-block !important;position: relative;}#sk-container-id-3 div.sk-text-repr-fallback {display: none;}</style><div id=\"sk-container-id-3\" class=\"sk-top-container\"><div class=\"sk-text-repr-fallback\"><pre>SVC(C=1000)</pre><b>In a Jupyter environment, please rerun this cell to show the HTML representation or trust the notebook. <br />On GitHub, the HTML representation is unable to render, please try loading this page with nbviewer.org.</b></div><div class=\"sk-container\" hidden><div class=\"sk-item\"><div class=\"sk-estimator sk-toggleable\"><input class=\"sk-toggleable__control sk-hidden--visually\" id=\"sk-estimator-id-3\" type=\"checkbox\" checked><label for=\"sk-estimator-id-3\" class=\"sk-toggleable__label sk-toggleable__label-arrow\">SVC</label><div class=\"sk-toggleable__content\"><pre>SVC(C=1000)</pre></div></div></div></div></div>"
      ],
      "text/plain": [
       "SVC(C=1000)"
      ]
     },
     "execution_count": 375,
     "metadata": {},
     "output_type": "execute_result"
    }
   ],
   "source": [
    "predictor=svm.SVC(C=1000, kernel='rbf')\n",
    "predictor.fit(mnist_data, mnist['training_labels'])"
   ]
  },
  {
   "cell_type": "code",
   "execution_count": 320,
   "id": "45b5833d",
   "metadata": {},
   "outputs": [
    {
     "data": {
      "text/plain": [
       "(10000, 1, 28, 28)"
      ]
     },
     "execution_count": 320,
     "metadata": {},
     "output_type": "execute_result"
    }
   ],
   "source": [
    "mnist['test_data'].shape"
   ]
  },
  {
   "cell_type": "code",
   "execution_count": 322,
   "id": "12346b0f",
   "metadata": {},
   "outputs": [],
   "source": [
    "#Need to reshape the test data to have the images be row vectors\n",
    "mnist_test_data=mnist['test_data'].reshape(10000,784)"
   ]
  },
  {
   "cell_type": "code",
   "execution_count": 376,
   "id": "cae25650",
   "metadata": {},
   "outputs": [],
   "source": [
    "test_preds = predictor.predict(mnist_test_data)"
   ]
  },
  {
   "cell_type": "code",
   "execution_count": 378,
   "id": "cce150ee",
   "metadata": {},
   "outputs": [],
   "source": [
    "df = pd.DataFrame({'Id': np.linspace(1,10000,10000,dtype=int), 'Category': test_preds},dtype=np.int64)"
   ]
  },
  {
   "cell_type": "code",
   "execution_count": 379,
   "id": "7c495987",
   "metadata": {},
   "outputs": [],
   "source": [
    "df.to_csv('mnist_preds2.csv',index=False)"
   ]
  },
  {
   "cell_type": "code",
   "execution_count": 10,
   "id": "6f53f696",
   "metadata": {},
   "outputs": [],
   "source": [
    "def add_features(data):\n",
    "    \n",
    "    means=[]\n",
    "\n",
    "    for i in range(len(data)):\n",
    "        means+=[data[i].mean()]\n",
    "        \n",
    "    means = np.array(means)\n",
    "    means=means.reshape(len(data),1)\n",
    "        \n",
    "    mod_data = np.append(data,means,1)\n",
    "#     mod_data = np.append(mod_data,zeros,1)\n",
    "#     mod_data = np.append(mod_data,variances,1)\n",
    "    \n",
    "    return mod_data    "
   ]
  },
  {
   "cell_type": "code",
   "execution_count": 475,
   "id": "b42f0354",
   "metadata": {},
   "outputs": [],
   "source": [
    "# add the row averages as a new feature\n",
    "mnist_mod = add_features(mnist_data)"
   ]
  },
  {
   "cell_type": "code",
   "execution_count": 439,
   "id": "a25f1c9b",
   "metadata": {},
   "outputs": [],
   "source": [
    "mnist_t_data,mnist_t_labels,mnist_v_data,mnist_v_labels = data_partition(mnist_mod, \n",
    "                                                                         mnist['training_labels'], 10000)"
   ]
  },
  {
   "cell_type": "code",
   "execution_count": 446,
   "id": "79c1630a",
   "metadata": {},
   "outputs": [],
   "source": [
    "mnist_t_scores, mnist_v_scores = sk_svm(mnist_t_data,mnist_t_labels, mnist_v_data, mnist_v_labels, [50000], c=10,kernel='rbf')"
   ]
  },
  {
   "cell_type": "code",
   "execution_count": 447,
   "id": "7176c732",
   "metadata": {},
   "outputs": [
    {
     "data": {
      "text/plain": [
       "[0.9844]"
      ]
     },
     "execution_count": 447,
     "metadata": {},
     "output_type": "execute_result"
    }
   ],
   "source": [
    "mnist_v_scores"
   ]
  },
  {
   "cell_type": "markdown",
   "id": "7e5ccb59",
   "metadata": {},
   "source": [
    "### Adding the average pixel value for a datapoint yields an improvement; let's retrain a model on the entire training data with this added feature then get predictions on the test data to submit to Kaggle"
   ]
  },
  {
   "cell_type": "code",
   "execution_count": 449,
   "id": "9fdf19d3",
   "metadata": {},
   "outputs": [
    {
     "data": {
      "text/html": [
       "<style>#sk-container-id-4 {color: black;background-color: white;}#sk-container-id-4 pre{padding: 0;}#sk-container-id-4 div.sk-toggleable {background-color: white;}#sk-container-id-4 label.sk-toggleable__label {cursor: pointer;display: block;width: 100%;margin-bottom: 0;padding: 0.3em;box-sizing: border-box;text-align: center;}#sk-container-id-4 label.sk-toggleable__label-arrow:before {content: \"▸\";float: left;margin-right: 0.25em;color: #696969;}#sk-container-id-4 label.sk-toggleable__label-arrow:hover:before {color: black;}#sk-container-id-4 div.sk-estimator:hover label.sk-toggleable__label-arrow:before {color: black;}#sk-container-id-4 div.sk-toggleable__content {max-height: 0;max-width: 0;overflow: hidden;text-align: left;background-color: #f0f8ff;}#sk-container-id-4 div.sk-toggleable__content pre {margin: 0.2em;color: black;border-radius: 0.25em;background-color: #f0f8ff;}#sk-container-id-4 input.sk-toggleable__control:checked~div.sk-toggleable__content {max-height: 200px;max-width: 100%;overflow: auto;}#sk-container-id-4 input.sk-toggleable__control:checked~label.sk-toggleable__label-arrow:before {content: \"▾\";}#sk-container-id-4 div.sk-estimator input.sk-toggleable__control:checked~label.sk-toggleable__label {background-color: #d4ebff;}#sk-container-id-4 div.sk-label input.sk-toggleable__control:checked~label.sk-toggleable__label {background-color: #d4ebff;}#sk-container-id-4 input.sk-hidden--visually {border: 0;clip: rect(1px 1px 1px 1px);clip: rect(1px, 1px, 1px, 1px);height: 1px;margin: -1px;overflow: hidden;padding: 0;position: absolute;width: 1px;}#sk-container-id-4 div.sk-estimator {font-family: monospace;background-color: #f0f8ff;border: 1px dotted black;border-radius: 0.25em;box-sizing: border-box;margin-bottom: 0.5em;}#sk-container-id-4 div.sk-estimator:hover {background-color: #d4ebff;}#sk-container-id-4 div.sk-parallel-item::after {content: \"\";width: 100%;border-bottom: 1px solid gray;flex-grow: 1;}#sk-container-id-4 div.sk-label:hover label.sk-toggleable__label {background-color: #d4ebff;}#sk-container-id-4 div.sk-serial::before {content: \"\";position: absolute;border-left: 1px solid gray;box-sizing: border-box;top: 0;bottom: 0;left: 50%;z-index: 0;}#sk-container-id-4 div.sk-serial {display: flex;flex-direction: column;align-items: center;background-color: white;padding-right: 0.2em;padding-left: 0.2em;position: relative;}#sk-container-id-4 div.sk-item {position: relative;z-index: 1;}#sk-container-id-4 div.sk-parallel {display: flex;align-items: stretch;justify-content: center;background-color: white;position: relative;}#sk-container-id-4 div.sk-item::before, #sk-container-id-4 div.sk-parallel-item::before {content: \"\";position: absolute;border-left: 1px solid gray;box-sizing: border-box;top: 0;bottom: 0;left: 50%;z-index: -1;}#sk-container-id-4 div.sk-parallel-item {display: flex;flex-direction: column;z-index: 1;position: relative;background-color: white;}#sk-container-id-4 div.sk-parallel-item:first-child::after {align-self: flex-end;width: 50%;}#sk-container-id-4 div.sk-parallel-item:last-child::after {align-self: flex-start;width: 50%;}#sk-container-id-4 div.sk-parallel-item:only-child::after {width: 0;}#sk-container-id-4 div.sk-dashed-wrapped {border: 1px dashed gray;margin: 0 0.4em 0.5em 0.4em;box-sizing: border-box;padding-bottom: 0.4em;background-color: white;}#sk-container-id-4 div.sk-label label {font-family: monospace;font-weight: bold;display: inline-block;line-height: 1.2em;}#sk-container-id-4 div.sk-label-container {text-align: center;}#sk-container-id-4 div.sk-container {/* jupyter's `normalize.less` sets `[hidden] { display: none; }` but bootstrap.min.css set `[hidden] { display: none !important; }` so we also need the `!important` here to be able to override the default hidden behavior on the sphinx rendered scikit-learn.org. See: https://github.com/scikit-learn/scikit-learn/issues/21755 */display: inline-block !important;position: relative;}#sk-container-id-4 div.sk-text-repr-fallback {display: none;}</style><div id=\"sk-container-id-4\" class=\"sk-top-container\"><div class=\"sk-text-repr-fallback\"><pre>SVC(C=100)</pre><b>In a Jupyter environment, please rerun this cell to show the HTML representation or trust the notebook. <br />On GitHub, the HTML representation is unable to render, please try loading this page with nbviewer.org.</b></div><div class=\"sk-container\" hidden><div class=\"sk-item\"><div class=\"sk-estimator sk-toggleable\"><input class=\"sk-toggleable__control sk-hidden--visually\" id=\"sk-estimator-id-4\" type=\"checkbox\" checked><label for=\"sk-estimator-id-4\" class=\"sk-toggleable__label sk-toggleable__label-arrow\">SVC</label><div class=\"sk-toggleable__content\"><pre>SVC(C=100)</pre></div></div></div></div></div>"
      ],
      "text/plain": [
       "SVC(C=100)"
      ]
     },
     "execution_count": 449,
     "metadata": {},
     "output_type": "execute_result"
    }
   ],
   "source": [
    "predictor=svm.SVC(C=100, kernel='rbf')\n",
    "predictor.fit(mnist_mod, mnist['training_labels'])"
   ]
  },
  {
   "cell_type": "code",
   "execution_count": 451,
   "id": "c0568dea",
   "metadata": {},
   "outputs": [],
   "source": [
    "#Need to reshape the test data to have the images be row vectors\n",
    "mnist_test_data=mnist['test_data'].reshape(10000,784)\n",
    "\n",
    "# add the row averages as a new feature\n",
    "mnist_test_mod = add_features(mnist_test_data)"
   ]
  },
  {
   "cell_type": "code",
   "execution_count": 452,
   "id": "03bc298d",
   "metadata": {},
   "outputs": [],
   "source": [
    "test_preds = predictor.predict(mnist_test_mod)"
   ]
  },
  {
   "cell_type": "code",
   "execution_count": 453,
   "id": "b429bb5d",
   "metadata": {},
   "outputs": [],
   "source": [
    "df = pd.DataFrame({'Id': np.linspace(1,10000,10000,dtype=int), 'Category': test_preds},dtype=np.int64)\n",
    "df.to_csv('mnist_mod_preds.csv',index=False)"
   ]
  },
  {
   "cell_type": "markdown",
   "id": "d16302fe",
   "metadata": {},
   "source": [
    "### Let's also try flipping the images and adding those columns as new features"
   ]
  },
  {
   "cell_type": "code",
   "execution_count": 464,
   "id": "50020046",
   "metadata": {},
   "outputs": [
    {
     "data": {
      "text/plain": [
       "(60000, 785)"
      ]
     },
     "execution_count": 464,
     "metadata": {},
     "output_type": "execute_result"
    }
   ],
   "source": [
    "mnist_mod.shape"
   ]
  },
  {
   "cell_type": "code",
   "execution_count": 457,
   "id": "b76b8974",
   "metadata": {},
   "outputs": [],
   "source": [
    "mnist_flipped=np.fliplr(mnist_data)"
   ]
  },
  {
   "cell_type": "code",
   "execution_count": 465,
   "id": "37da3ebf",
   "metadata": {},
   "outputs": [],
   "source": [
    "mnist_mod = np.append(mnist_mod,mnist_flipped,1)"
   ]
  },
  {
   "cell_type": "code",
   "execution_count": 476,
   "id": "9c6b484f",
   "metadata": {},
   "outputs": [],
   "source": [
    "mnist_t_data,mnist_t_labels,mnist_v_data,mnist_v_labels = data_partition(mnist_mod, \n",
    "                                                                         mnist['training_labels'], 10000)"
   ]
  },
  {
   "cell_type": "code",
   "execution_count": 539,
   "id": "190eb467",
   "metadata": {},
   "outputs": [],
   "source": [
    "mnist_t_scores, mnist_v_scores = sk_svm(mnist_t_data,mnist_t_labels, mnist_v_data, mnist_v_labels, [50000], c=10,kernel='rbf')"
   ]
  },
  {
   "cell_type": "code",
   "execution_count": 540,
   "id": "165276b5",
   "metadata": {},
   "outputs": [
    {
     "data": {
      "text/plain": [
       "[0.981]"
      ]
     },
     "execution_count": 540,
     "metadata": {},
     "output_type": "execute_result"
    }
   ],
   "source": [
    "mnist_v_scores"
   ]
  },
  {
   "cell_type": "markdown",
   "id": "d81e8c08",
   "metadata": {},
   "source": [
    "### Flipping the images doesn't improve the score. Let's try adding Gaussian Noise"
   ]
  },
  {
   "cell_type": "code",
   "execution_count": 751,
   "id": "4a85c264",
   "metadata": {},
   "outputs": [],
   "source": [
    "mnist_t_data,mnist_t_labels,mnist_v_data,mnist_v_labels = data_partition(mnist_data, \n",
    "                                                                         mnist['training_labels'], 10000)"
   ]
  },
  {
   "cell_type": "code",
   "execution_count": 752,
   "id": "a6048d27",
   "metadata": {},
   "outputs": [],
   "source": [
    "mnist_t_data = add_features(mnist_t_data,add_noise=True)\n",
    "mnist_v_data = add_features(mnist_v_data,add_noise=False)"
   ]
  },
  {
   "cell_type": "code",
   "execution_count": 753,
   "id": "05c45735",
   "metadata": {},
   "outputs": [],
   "source": [
    "mnist_t_scores, mnist_v_scores = sk_svm(mnist_t_data,mnist_t_labels, mnist_v_data, mnist_v_labels, [200], c=10,kernel='rbf')"
   ]
  },
  {
   "cell_type": "code",
   "execution_count": 754,
   "id": "e271bb28",
   "metadata": {},
   "outputs": [
    {
     "data": {
      "text/plain": [
       "[0.826]"
      ]
     },
     "execution_count": 754,
     "metadata": {},
     "output_type": "execute_result"
    }
   ],
   "source": [
    "mnist_v_scores"
   ]
  },
  {
   "cell_type": "markdown",
   "id": "ca632b56",
   "metadata": {},
   "source": [
    "### Let's try the Canny edge detector"
   ]
  },
  {
   "cell_type": "code",
   "execution_count": 14,
   "id": "dbb8be1d",
   "metadata": {},
   "outputs": [],
   "source": [
    "import cv2 as cv"
   ]
  },
  {
   "cell_type": "code",
   "execution_count": 15,
   "id": "b3a109af",
   "metadata": {},
   "outputs": [
    {
     "data": {
      "text/plain": [
       "<matplotlib.image.AxesImage at 0x12d2768c9d0>"
      ]
     },
     "execution_count": 15,
     "metadata": {},
     "output_type": "execute_result"
    },
    {
     "data": {
      "image/png": "[encoded data removed]",
      "text/plain": [
       "<Figure size 640x480 with 1 Axes>"
      ]
     },
     "metadata": {},
     "output_type": "display_data"
    }
   ],
   "source": [
    "plt.imshow(mnist['training_data'][8][0],cmap='gray')"
   ]
  },
  {
   "cell_type": "code",
   "execution_count": 16,
   "id": "ae9795d7",
   "metadata": {},
   "outputs": [],
   "source": [
    "img = 255*mnist['training_data'][8][0]\n",
    "img_blur = cv.GaussianBlur(img, (3,3), 0)"
   ]
  },
  {
   "cell_type": "code",
   "execution_count": 17,
   "id": "81d0b5c5",
   "metadata": {},
   "outputs": [
    {
     "data": {
      "text/plain": [
       "<matplotlib.image.AxesImage at 0x12d276bfb80>"
      ]
     },
     "execution_count": 17,
     "metadata": {},
     "output_type": "execute_result"
    },
    {
     "data": {
      "image/png": "[encoded data removed]",
      "text/plain": [
       "<Figure size 640x480 with 1 Axes>"
      ]
     },
     "metadata": {},
     "output_type": "display_data"
    }
   ],
   "source": [
    "plt.imshow(img_blur,cmap='gray')"
   ]
  },
  {
   "cell_type": "code",
   "execution_count": 18,
   "id": "a36ba8ff",
   "metadata": {},
   "outputs": [],
   "source": [
    "edge = cv.Canny(np.uint8(img_blur),90,200)"
   ]
  },
  {
   "cell_type": "code",
   "execution_count": 19,
   "id": "9bce13b0",
   "metadata": {},
   "outputs": [
    {
     "data": {
      "text/plain": [
       "0.11224489795918367"
      ]
     },
     "execution_count": 19,
     "metadata": {},
     "output_type": "execute_result"
    }
   ],
   "source": [
    "(1/255*edge).sum()/784"
   ]
  },
  {
   "cell_type": "markdown",
   "id": "87563fb4",
   "metadata": {},
   "source": [
    "### Adding the Canny output as features did not work so well. Let's instead create \"new\" data by adding Gaussian blur to the existing data and adding it onto the existing data."
   ]
  },
  {
   "cell_type": "code",
   "execution_count": 20,
   "id": "8f44e52f",
   "metadata": {},
   "outputs": [],
   "source": [
    "#make a copy of the data to modify\n",
    "blurry_mnist=mnist['training_data']"
   ]
  },
  {
   "cell_type": "code",
   "execution_count": 21,
   "id": "bef099e3",
   "metadata": {},
   "outputs": [],
   "source": [
    "# for each image/data point, add blur and re-write the blurred image to that position in the array\n",
    "for i in range(len(blurry_mnist)):\n",
    "    #scale the pixel values back to the 0-255 range becasue it seems to work better when adding noise\n",
    "    img = 255*blurry_mnist[i][0]\n",
    "    blurry_mnist[i][0]=cv.GaussianBlur(img, (1,1), 0)\n",
    "blurry_mnist=1/255*blurry_mnist"
   ]
  },
  {
   "cell_type": "code",
   "execution_count": 22,
   "id": "da5edc10",
   "metadata": {},
   "outputs": [],
   "source": [
    "blurry_mnist=blurry_mnist.reshape(60000,784)"
   ]
  },
  {
   "cell_type": "code",
   "execution_count": 23,
   "id": "838258c3",
   "metadata": {},
   "outputs": [],
   "source": [
    "big_mnist=np.vstack((mnist_data,blurry_mnist))"
   ]
  },
  {
   "cell_type": "code",
   "execution_count": 24,
   "id": "40fc1910",
   "metadata": {},
   "outputs": [
    {
     "data": {
      "text/plain": [
       "(120000, 784)"
      ]
     },
     "execution_count": 24,
     "metadata": {},
     "output_type": "execute_result"
    }
   ],
   "source": [
    "big_mnist.shape"
   ]
  },
  {
   "cell_type": "code",
   "execution_count": 25,
   "id": "4d4cee15",
   "metadata": {},
   "outputs": [],
   "source": [
    "big_labels = np.hstack((mnist['training_labels'],mnist['training_labels']))"
   ]
  },
  {
   "cell_type": "code",
   "execution_count": 26,
   "id": "03a54a88",
   "metadata": {},
   "outputs": [
    {
     "data": {
      "text/plain": [
       "array([8, 9, 6, ..., 7, 1, 1], dtype=int64)"
      ]
     },
     "execution_count": 26,
     "metadata": {},
     "output_type": "execute_result"
    }
   ],
   "source": [
    "mnist['training_labels']"
   ]
  },
  {
   "cell_type": "code",
   "execution_count": 27,
   "id": "c20e07f4",
   "metadata": {},
   "outputs": [
    {
     "data": {
      "text/plain": [
       "(120000,)"
      ]
     },
     "execution_count": 27,
     "metadata": {},
     "output_type": "execute_result"
    }
   ],
   "source": [
    "big_labels.shape"
   ]
  },
  {
   "cell_type": "code",
   "execution_count": 28,
   "id": "1762b597",
   "metadata": {},
   "outputs": [],
   "source": [
    "mnist_mod = add_features(big_mnist)"
   ]
  },
  {
   "cell_type": "code",
   "execution_count": 29,
   "id": "5310956b",
   "metadata": {},
   "outputs": [],
   "source": [
    "mnist_t_data,mnist_t_labels,mnist_v_data,mnist_v_labels = data_partition(mnist_mod, \n",
    "                                                                         big_labels, 5000)"
   ]
  },
  {
   "cell_type": "code",
   "execution_count": 30,
   "id": "cdf1b687",
   "metadata": {},
   "outputs": [],
   "source": [
    "mnist_t_scores, mnist_v_scores = sk_svm(mnist_t_data,mnist_t_labels, mnist_v_data, mnist_v_labels, [60000], c=10,kernel='rbf')"
   ]
  },
  {
   "cell_type": "code",
   "execution_count": 31,
   "id": "13ce1730",
   "metadata": {},
   "outputs": [
    {
     "data": {
      "text/plain": [
       "[0.9908]"
      ]
     },
     "execution_count": 31,
     "metadata": {},
     "output_type": "execute_result"
    }
   ],
   "source": [
    "mnist_v_scores"
   ]
  },
  {
   "cell_type": "markdown",
   "id": "f52e8e98",
   "metadata": {},
   "source": [
    "## This is for the Kaggle submission"
   ]
  },
  {
   "cell_type": "code",
   "execution_count": 33,
   "id": "79a2fdba",
   "metadata": {},
   "outputs": [
    {
     "data": {
      "text/html": [
       "<style>#sk-container-id-1 {color: black;background-color: white;}#sk-container-id-1 pre{padding: 0;}#sk-container-id-1 div.sk-toggleable {background-color: white;}#sk-container-id-1 label.sk-toggleable__label {cursor: pointer;display: block;width: 100%;margin-bottom: 0;padding: 0.3em;box-sizing: border-box;text-align: center;}#sk-container-id-1 label.sk-toggleable__label-arrow:before {content: \"▸\";float: left;margin-right: 0.25em;color: #696969;}#sk-container-id-1 label.sk-toggleable__label-arrow:hover:before {color: black;}#sk-container-id-1 div.sk-estimator:hover label.sk-toggleable__label-arrow:before {color: black;}#sk-container-id-1 div.sk-toggleable__content {max-height: 0;max-width: 0;overflow: hidden;text-align: left;background-color: #f0f8ff;}#sk-container-id-1 div.sk-toggleable__content pre {margin: 0.2em;color: black;border-radius: 0.25em;background-color: #f0f8ff;}#sk-container-id-1 input.sk-toggleable__control:checked~div.sk-toggleable__content {max-height: 200px;max-width: 100%;overflow: auto;}#sk-container-id-1 input.sk-toggleable__control:checked~label.sk-toggleable__label-arrow:before {content: \"▾\";}#sk-container-id-1 div.sk-estimator input.sk-toggleable__control:checked~label.sk-toggleable__label {background-color: #d4ebff;}#sk-container-id-1 div.sk-label input.sk-toggleable__control:checked~label.sk-toggleable__label {background-color: #d4ebff;}#sk-container-id-1 input.sk-hidden--visually {border: 0;clip: rect(1px 1px 1px 1px);clip: rect(1px, 1px, 1px, 1px);height: 1px;margin: -1px;overflow: hidden;padding: 0;position: absolute;width: 1px;}#sk-container-id-1 div.sk-estimator {font-family: monospace;background-color: #f0f8ff;border: 1px dotted black;border-radius: 0.25em;box-sizing: border-box;margin-bottom: 0.5em;}#sk-container-id-1 div.sk-estimator:hover {background-color: #d4ebff;}#sk-container-id-1 div.sk-parallel-item::after {content: \"\";width: 100%;border-bottom: 1px solid gray;flex-grow: 1;}#sk-container-id-1 div.sk-label:hover label.sk-toggleable__label {background-color: #d4ebff;}#sk-container-id-1 div.sk-serial::before {content: \"\";position: absolute;border-left: 1px solid gray;box-sizing: border-box;top: 0;bottom: 0;left: 50%;z-index: 0;}#sk-container-id-1 div.sk-serial {display: flex;flex-direction: column;align-items: center;background-color: white;padding-right: 0.2em;padding-left: 0.2em;position: relative;}#sk-container-id-1 div.sk-item {position: relative;z-index: 1;}#sk-container-id-1 div.sk-parallel {display: flex;align-items: stretch;justify-content: center;background-color: white;position: relative;}#sk-container-id-1 div.sk-item::before, #sk-container-id-1 div.sk-parallel-item::before {content: \"\";position: absolute;border-left: 1px solid gray;box-sizing: border-box;top: 0;bottom: 0;left: 50%;z-index: -1;}#sk-container-id-1 div.sk-parallel-item {display: flex;flex-direction: column;z-index: 1;position: relative;background-color: white;}#sk-container-id-1 div.sk-parallel-item:first-child::after {align-self: flex-end;width: 50%;}#sk-container-id-1 div.sk-parallel-item:last-child::after {align-self: flex-start;width: 50%;}#sk-container-id-1 div.sk-parallel-item:only-child::after {width: 0;}#sk-container-id-1 div.sk-dashed-wrapped {border: 1px dashed gray;margin: 0 0.4em 0.5em 0.4em;box-sizing: border-box;padding-bottom: 0.4em;background-color: white;}#sk-container-id-1 div.sk-label label {font-family: monospace;font-weight: bold;display: inline-block;line-height: 1.2em;}#sk-container-id-1 div.sk-label-container {text-align: center;}#sk-container-id-1 div.sk-container {/* jupyter's `normalize.less` sets `[hidden] { display: none; }` but bootstrap.min.css set `[hidden] { display: none !important; }` so we also need the `!important` here to be able to override the default hidden behavior on the sphinx rendered scikit-learn.org. See: https://github.com/scikit-learn/scikit-learn/issues/21755 */display: inline-block !important;position: relative;}#sk-container-id-1 div.sk-text-repr-fallback {display: none;}</style><div id=\"sk-container-id-1\" class=\"sk-top-container\"><div class=\"sk-text-repr-fallback\"><pre>SVC(C=10)</pre><b>In a Jupyter environment, please rerun this cell to show the HTML representation or trust the notebook. <br />On GitHub, the HTML representation is unable to render, please try loading this page with nbviewer.org.</b></div><div class=\"sk-container\" hidden><div class=\"sk-item\"><div class=\"sk-estimator sk-toggleable\"><input class=\"sk-toggleable__control sk-hidden--visually\" id=\"sk-estimator-id-1\" type=\"checkbox\" checked><label for=\"sk-estimator-id-1\" class=\"sk-toggleable__label sk-toggleable__label-arrow\">SVC</label><div class=\"sk-toggleable__content\"><pre>SVC(C=10)</pre></div></div></div></div></div>"
      ],
      "text/plain": [
       "SVC(C=10)"
      ]
     },
     "execution_count": 33,
     "metadata": {},
     "output_type": "execute_result"
    }
   ],
   "source": [
    "predictor=svm.SVC(C=10, kernel='rbf')\n",
    "predictor.fit(mnist_mod, big_labels)"
   ]
  },
  {
   "cell_type": "code",
   "execution_count": 34,
   "id": "f0ddab6a",
   "metadata": {},
   "outputs": [],
   "source": [
    "raw_test = mnist['test_data']"
   ]
  },
  {
   "cell_type": "code",
   "execution_count": 36,
   "id": "6c93e09e",
   "metadata": {},
   "outputs": [],
   "source": [
    "raw_test = raw_test.reshape(10000,784)"
   ]
  },
  {
   "cell_type": "code",
   "execution_count": 38,
   "id": "1331bc06",
   "metadata": {},
   "outputs": [],
   "source": [
    "mod_test = add_features(raw_test)"
   ]
  },
  {
   "cell_type": "code",
   "execution_count": 40,
   "id": "9994000d",
   "metadata": {},
   "outputs": [],
   "source": [
    "preds = predictor.predict(mod_test)"
   ]
  },
  {
   "cell_type": "code",
   "execution_count": 42,
   "id": "8975480a",
   "metadata": {},
   "outputs": [],
   "source": [
    "df = pd.DataFrame({'Id': np.linspace(1,10000,10000,dtype=int), 'Category': preds},dtype=np.int64)\n",
    "df.to_csv('big_mnist_preds.csv',index=False)"
   ]
  },
  {
   "cell_type": "markdown",
   "id": "37746415",
   "metadata": {},
   "source": [
    "#### This is just troubleshooting"
   ]
  },
  {
   "cell_type": "code",
   "execution_count": 45,
   "id": "b93efb11",
   "metadata": {},
   "outputs": [],
   "source": [
    "#lets compare these to the mnist_mod_preds since they are the current high score\n",
    "df1=pd.read_csv('mnist_mod_preds.csv')\n",
    "df['current high'] = df1['Category']"
   ]
  },
  {
   "cell_type": "code",
   "execution_count": 49,
   "id": "59efed96",
   "metadata": {},
   "outputs": [
    {
     "data": {
      "text/html": [
       "<div>\n",
       "<style scoped>\n",
       "    .dataframe tbody tr th:only-of-type {\n",
       "        vertical-align: middle;\n",
       "    }\n",
       "\n",
       "    .dataframe tbody tr th {\n",
       "        vertical-align: top;\n",
       "    }\n",
       "\n",
       "    .dataframe thead th {\n",
       "        text-align: right;\n",
       "    }\n",
       "</style>\n",
       "<table border=\"1\" class=\"dataframe\">\n",
       "  <thead>\n",
       "    <tr style=\"text-align: right;\">\n",
       "      <th></th>\n",
       "      <th>Id</th>\n",
       "      <th>Category</th>\n",
       "      <th>current high</th>\n",
       "    </tr>\n",
       "  </thead>\n",
       "  <tbody>\n",
       "    <tr>\n",
       "      <th>98</th>\n",
       "      <td>99</td>\n",
       "      <td>7</td>\n",
       "      <td>1</td>\n",
       "    </tr>\n",
       "    <tr>\n",
       "      <th>6489</th>\n",
       "      <td>6490</td>\n",
       "      <td>1</td>\n",
       "      <td>7</td>\n",
       "    </tr>\n",
       "  </tbody>\n",
       "</table>\n",
       "</div>"
      ],
      "text/plain": [
       "        Id  Category  current high\n",
       "98      99         7             1\n",
       "6489  6490         1             7"
      ]
     },
     "execution_count": 49,
     "metadata": {},
     "output_type": "execute_result"
    }
   ],
   "source": [
    "df.loc[df['Category'] != df['current high']]"
   ]
  },
  {
   "cell_type": "markdown",
   "id": "27701565",
   "metadata": {},
   "source": [
    "### The following was an unsuccessful attempt to get more accuracy by adding the sum of edge pixels in an image as a feature. "
   ]
  },
  {
   "cell_type": "code",
   "execution_count": 1521,
   "id": "06c2107c",
   "metadata": {},
   "outputs": [],
   "source": [
    "edges=[]\n",
    "for i in range(len(raw_test)):\n",
    "    img = 255*raw_test[i][0]\n",
    "    img_blur = cv.GaussianBlur(img, (11,11), 0)\n",
    "    edge = cv.Canny(np.uint8(img_blur),120,180)\n",
    "    edges+=[(1/255*edge).sum()/784]"
   ]
  },
  {
   "cell_type": "code",
   "execution_count": 1522,
   "id": "7093a756",
   "metadata": {},
   "outputs": [],
   "source": [
    "#Need to reshape the test data to have the images be row vectors\n",
    "mnist_test_data=mnist['test_data'].reshape(10000,784)\n",
    "\n",
    "# add the row averages as a new feature\n",
    "mnist_test_mod = add_features(mnist_test_data)"
   ]
  },
  {
   "cell_type": "code",
   "execution_count": 1523,
   "id": "6b9c7c71",
   "metadata": {},
   "outputs": [],
   "source": [
    "edges=np.array(edges).reshape(len(mnist_test_data),1)"
   ]
  },
  {
   "cell_type": "code",
   "execution_count": 1524,
   "id": "d0e9b997",
   "metadata": {},
   "outputs": [],
   "source": [
    "mnist_test_mod = np.append(mnist_test_mod,edges,1)"
   ]
  },
  {
   "cell_type": "code",
   "execution_count": 1525,
   "id": "63055dd6",
   "metadata": {},
   "outputs": [],
   "source": [
    "test_preds = predictor.predict(mnist_test_mod)"
   ]
  },
  {
   "cell_type": "code",
   "execution_count": 1526,
   "id": "ddd37b1d",
   "metadata": {},
   "outputs": [],
   "source": [
    "df = pd.DataFrame({'Id': np.linspace(1,10000,10000,dtype=int), 'Category': test_preds},dtype=np.int64)\n",
    "df.to_csv('mnist_edgemod_preds.csv',index=False)"
   ]
  },
  {
   "cell_type": "code",
   "execution_count": 1527,
   "id": "ee36319b",
   "metadata": {},
   "outputs": [],
   "source": [
    "df1=pd.read_csv('mnist_preds.csv')"
   ]
  },
  {
   "cell_type": "code",
   "execution_count": 1530,
   "id": "c545400c",
   "metadata": {},
   "outputs": [],
   "source": [
    "df1['cat 2'] = df['Category']"
   ]
  },
  {
   "cell_type": "markdown",
   "id": "397c8622",
   "metadata": {},
   "source": [
    "### There were no updates to the predictions so this additional feature was unhelpful"
   ]
  },
  {
   "cell_type": "markdown",
   "id": "a9b6a8da",
   "metadata": {},
   "source": [
    "## Spam"
   ]
  },
  {
   "cell_type": "code",
   "execution_count": 198,
   "id": "ce2de9d7",
   "metadata": {},
   "outputs": [],
   "source": [
    "import os"
   ]
  },
  {
   "cell_type": "code",
   "execution_count": 260,
   "id": "d92562cd",
   "metadata": {},
   "outputs": [],
   "source": [
    "def get_freqs(path):\n",
    "    \n",
    "    files = os.listdir(path)\n",
    "    word_freqs = {}\n",
    "\n",
    "    for file in files:\n",
    "        with open('{}/{}'.format(path,file), encoding='utf8', errors='ignore') as f:\n",
    "            try:\n",
    "                lines = f.readlines() # Read in text from file\n",
    "            except Exception as e:\n",
    "                    # skip files we have trouble reading.\n",
    "                continue\n",
    "\n",
    "        for i in range(len(lines)):\n",
    "            words=lines[i].split()\n",
    "\n",
    "            for word in words:\n",
    "                if word not in word_freqs.keys():\n",
    "                    word_freqs[word] = 1\n",
    "                elif word in word_freqs.keys():\n",
    "                    word_freqs[word] += 1\n",
    "    \n",
    "    word_freqs = sorted(word_freqs.items(), key=lambda x:x[1],reverse=True)\n",
    "    return word_freqs"
   ]
  },
  {
   "cell_type": "code",
   "execution_count": 287,
   "id": "52d3856b",
   "metadata": {},
   "outputs": [],
   "source": [
    "spam_freqs=get_freqs('data/spam')"
   ]
  },
  {
   "cell_type": "code",
   "execution_count": 288,
   "id": "58da54a5",
   "metadata": {},
   "outputs": [],
   "source": [
    "ham_freqs=get_freqs('data/ham')"
   ]
  },
  {
   "cell_type": "code",
   "execution_count": 289,
   "id": "7ce02676",
   "metadata": {},
   "outputs": [],
   "source": [
    "spam_words=[spam_freqs[:200][i][0] for i in range(200)]\n",
    "spam_freqs=[spam_freqs[:200][i][1] for i in range(200)]"
   ]
  },
  {
   "cell_type": "code",
   "execution_count": 290,
   "id": "4456d08a",
   "metadata": {},
   "outputs": [],
   "source": [
    "ham_words=[ham_freqs[:200][i][0] for i in range(200)]\n",
    "ham_freqs=[ham_freqs[:200][i][1] for i in range(200)]"
   ]
  },
  {
   "cell_type": "code",
   "execution_count": 291,
   "id": "364e291a",
   "metadata": {},
   "outputs": [],
   "source": [
    "# add these all as features\n",
    "additions=list(set(spam_words)^set(ham_words))"
   ]
  },
  {
   "cell_type": "code",
   "execution_count": 282,
   "id": "00710e2a",
   "metadata": {},
   "outputs": [],
   "source": [
    "spam = np.load('data/spam-data.npz')"
   ]
  },
  {
   "cell_type": "code",
   "execution_count": 283,
   "id": "b1e98d42",
   "metadata": {},
   "outputs": [],
   "source": [
    "spam_t_data,spam_t_labels,spam_v_data,spam_v_labels = data_partition(spam['training_data'],spam['training_labels'],\n",
    "                                                                     round(0.2*len(spam['training_labels'])))"
   ]
  },
  {
   "cell_type": "code",
   "execution_count": 284,
   "id": "c1d37578",
   "metadata": {},
   "outputs": [
    {
     "data": {
      "text/plain": [
       "(3338, 218)"
      ]
     },
     "execution_count": 284,
     "metadata": {},
     "output_type": "execute_result"
    }
   ],
   "source": [
    "spam_t_data.shape"
   ]
  },
  {
   "cell_type": "code",
   "execution_count": 285,
   "id": "38039546",
   "metadata": {},
   "outputs": [],
   "source": [
    "spam_t_scores, spam_v_scores = sk_svm(spam_t_data,spam_t_labels,spam_v_data,spam_v_labels,[len(spam_t_data)],\n",
    "                                      c= 4000,kernel='rbf')"
   ]
  },
  {
   "cell_type": "code",
   "execution_count": 286,
   "id": "42da5de7",
   "metadata": {},
   "outputs": [
    {
     "data": {
      "text/plain": [
       "[0.9448441247002398]"
      ]
     },
     "execution_count": 286,
     "metadata": {},
     "output_type": "execute_result"
    }
   ],
   "source": [
    "spam_v_scores"
   ]
  },
  {
   "cell_type": "code",
   "execution_count": 296,
   "id": "8767682d",
   "metadata": {},
   "outputs": [
    {
     "data": {
      "text/plain": [
       "4172"
      ]
     },
     "execution_count": 296,
     "metadata": {},
     "output_type": "execute_result"
    }
   ],
   "source": [
    "spam['training_data']"
   ]
  },
  {
   "cell_type": "markdown",
   "id": "22a7a03c",
   "metadata": {},
   "source": [
    "## This is for the Kaggle Submission"
   ]
  },
  {
   "cell_type": "code",
   "execution_count": 299,
   "id": "366e2e60",
   "metadata": {},
   "outputs": [
    {
     "data": {
      "text/html": [
       "<style>#sk-container-id-2 {color: black;background-color: white;}#sk-container-id-2 pre{padding: 0;}#sk-container-id-2 div.sk-toggleable {background-color: white;}#sk-container-id-2 label.sk-toggleable__label {cursor: pointer;display: block;width: 100%;margin-bottom: 0;padding: 0.3em;box-sizing: border-box;text-align: center;}#sk-container-id-2 label.sk-toggleable__label-arrow:before {content: \"▸\";float: left;margin-right: 0.25em;color: #696969;}#sk-container-id-2 label.sk-toggleable__label-arrow:hover:before {color: black;}#sk-container-id-2 div.sk-estimator:hover label.sk-toggleable__label-arrow:before {color: black;}#sk-container-id-2 div.sk-toggleable__content {max-height: 0;max-width: 0;overflow: hidden;text-align: left;background-color: #f0f8ff;}#sk-container-id-2 div.sk-toggleable__content pre {margin: 0.2em;color: black;border-radius: 0.25em;background-color: #f0f8ff;}#sk-container-id-2 input.sk-toggleable__control:checked~div.sk-toggleable__content {max-height: 200px;max-width: 100%;overflow: auto;}#sk-container-id-2 input.sk-toggleable__control:checked~label.sk-toggleable__label-arrow:before {content: \"▾\";}#sk-container-id-2 div.sk-estimator input.sk-toggleable__control:checked~label.sk-toggleable__label {background-color: #d4ebff;}#sk-container-id-2 div.sk-label input.sk-toggleable__control:checked~label.sk-toggleable__label {background-color: #d4ebff;}#sk-container-id-2 input.sk-hidden--visually {border: 0;clip: rect(1px 1px 1px 1px);clip: rect(1px, 1px, 1px, 1px);height: 1px;margin: -1px;overflow: hidden;padding: 0;position: absolute;width: 1px;}#sk-container-id-2 div.sk-estimator {font-family: monospace;background-color: #f0f8ff;border: 1px dotted black;border-radius: 0.25em;box-sizing: border-box;margin-bottom: 0.5em;}#sk-container-id-2 div.sk-estimator:hover {background-color: #d4ebff;}#sk-container-id-2 div.sk-parallel-item::after {content: \"\";width: 100%;border-bottom: 1px solid gray;flex-grow: 1;}#sk-container-id-2 div.sk-label:hover label.sk-toggleable__label {background-color: #d4ebff;}#sk-container-id-2 div.sk-serial::before {content: \"\";position: absolute;border-left: 1px solid gray;box-sizing: border-box;top: 0;bottom: 0;left: 50%;z-index: 0;}#sk-container-id-2 div.sk-serial {display: flex;flex-direction: column;align-items: center;background-color: white;padding-right: 0.2em;padding-left: 0.2em;position: relative;}#sk-container-id-2 div.sk-item {position: relative;z-index: 1;}#sk-container-id-2 div.sk-parallel {display: flex;align-items: stretch;justify-content: center;background-color: white;position: relative;}#sk-container-id-2 div.sk-item::before, #sk-container-id-2 div.sk-parallel-item::before {content: \"\";position: absolute;border-left: 1px solid gray;box-sizing: border-box;top: 0;bottom: 0;left: 50%;z-index: -1;}#sk-container-id-2 div.sk-parallel-item {display: flex;flex-direction: column;z-index: 1;position: relative;background-color: white;}#sk-container-id-2 div.sk-parallel-item:first-child::after {align-self: flex-end;width: 50%;}#sk-container-id-2 div.sk-parallel-item:last-child::after {align-self: flex-start;width: 50%;}#sk-container-id-2 div.sk-parallel-item:only-child::after {width: 0;}#sk-container-id-2 div.sk-dashed-wrapped {border: 1px dashed gray;margin: 0 0.4em 0.5em 0.4em;box-sizing: border-box;padding-bottom: 0.4em;background-color: white;}#sk-container-id-2 div.sk-label label {font-family: monospace;font-weight: bold;display: inline-block;line-height: 1.2em;}#sk-container-id-2 div.sk-label-container {text-align: center;}#sk-container-id-2 div.sk-container {/* jupyter's `normalize.less` sets `[hidden] { display: none; }` but bootstrap.min.css set `[hidden] { display: none !important; }` so we also need the `!important` here to be able to override the default hidden behavior on the sphinx rendered scikit-learn.org. See: https://github.com/scikit-learn/scikit-learn/issues/21755 */display: inline-block !important;position: relative;}#sk-container-id-2 div.sk-text-repr-fallback {display: none;}</style><div id=\"sk-container-id-2\" class=\"sk-top-container\"><div class=\"sk-text-repr-fallback\"><pre>SVC(C=4000)</pre><b>In a Jupyter environment, please rerun this cell to show the HTML representation or trust the notebook. <br />On GitHub, the HTML representation is unable to render, please try loading this page with nbviewer.org.</b></div><div class=\"sk-container\" hidden><div class=\"sk-item\"><div class=\"sk-estimator sk-toggleable\"><input class=\"sk-toggleable__control sk-hidden--visually\" id=\"sk-estimator-id-2\" type=\"checkbox\" checked><label for=\"sk-estimator-id-2\" class=\"sk-toggleable__label sk-toggleable__label-arrow\">SVC</label><div class=\"sk-toggleable__content\"><pre>SVC(C=4000)</pre></div></div></div></div></div>"
      ],
      "text/plain": [
       "SVC(C=4000)"
      ]
     },
     "execution_count": 299,
     "metadata": {},
     "output_type": "execute_result"
    }
   ],
   "source": [
    "predictor=svm.SVC(C=4000, kernel='rbf')\n",
    "predictor.fit(spam['training_data'], spam['training_labels'])"
   ]
  },
  {
   "cell_type": "code",
   "execution_count": 301,
   "id": "21bbb19a",
   "metadata": {},
   "outputs": [],
   "source": [
    "spam_preds = predictor.predict(spam['test_data'])"
   ]
  },
  {
   "cell_type": "code",
   "execution_count": 303,
   "id": "f06b7d42",
   "metadata": {},
   "outputs": [],
   "source": [
    "df = pd.DataFrame({'Id': np.linspace(1,len(spam_preds),len(spam_preds),dtype=int), 'Category': spam_preds},dtype=np.int64)\n",
    "df.to_csv('spam_preds.csv',index=False)"
   ]
  },
  {
   "cell_type": "markdown",
   "id": "d99d0e90",
   "metadata": {},
   "source": [
    "## CIFAR"
   ]
  },
  {
   "cell_type": "code",
   "execution_count": 40,
   "id": "30ea0c9d",
   "metadata": {},
   "outputs": [],
   "source": [
    "from skimage.io import imread\n",
    "from skimage.transform import resize\n",
    "from skimage.feature import hog\n",
    "from skimage import exposure"
   ]
  },
  {
   "cell_type": "code",
   "execution_count": 62,
   "id": "09a9cbe1",
   "metadata": {},
   "outputs": [],
   "source": [
    "def make_hog(data):\n",
    "    \n",
    "    fds = np.empty((0,70308),dtype=None)\n",
    "    # hog_img=np.array(131072,dtype=None)\n",
    "    \n",
    "    for i in range(data.shape[0]):\n",
    "        img=cifar['training_data'][3].reshape(3,32,32)\n",
    "        img = img.transpose(1,2,0)\n",
    "        \n",
    "        resized = resize(img,(128*4,64*4))\n",
    "        fd, hog_image = hog(resized, orientations=9, pixels_per_cell=(8, 8),\n",
    "                    cells_per_block=(2, 2), visualize=True, multichannel=True)\n",
    "        fds = np.r_[fds,[fd]]\n",
    "        \n",
    "    return fds\n",
    "        "
   ]
  },
  {
   "cell_type": "code",
   "execution_count": 63,
   "id": "d048eb3c",
   "metadata": {},
   "outputs": [],
   "source": [
    "import warnings\n",
    "\n",
    "def fxn():\n",
    "    warnings.warn(\"deprecated\", DeprecationWarning)\n",
    "\n",
    "with warnings.catch_warnings():\n",
    "    warnings.simplefilter(\"ignore\")\n",
    "    fxn()"
   ]
  },
  {
   "cell_type": "code",
   "execution_count": null,
   "id": "e99ef880",
   "metadata": {},
   "outputs": [
    {
     "name": "stderr",
     "output_type": "stream",
     "text": [
      "C:\\Users\\Colin\\AppData\\Local\\Temp\\ipykernel_9516\\3630791607.py:11: FutureWarning: `multichannel` is a deprecated argument name for `hog`. It will be removed in version 1.0. Please use `channel_axis` instead.\n",
      "  fd, hog_image = hog(resized, orientations=9, pixels_per_cell=(8, 8),\n"
     ]
    }
   ],
   "source": [
    "hogged_cifar=make_hog(cifar['training_data'])"
   ]
  },
  {
   "cell_type": "code",
   "execution_count": 68,
   "id": "aec67f7a",
   "metadata": {},
   "outputs": [
    {
     "data": {
      "text/plain": [
       "(100, 70308)"
      ]
     },
     "execution_count": 68,
     "metadata": {},
     "output_type": "execute_result"
    }
   ],
   "source": [
    "test.shape"
   ]
  },
  {
   "cell_type": "code",
   "execution_count": 35,
   "id": "bc1192e7",
   "metadata": {},
   "outputs": [
    {
     "name": "stderr",
     "output_type": "stream",
     "text": [
      "C:\\Users\\Colin\\AppData\\Local\\Temp\\ipykernel_9516\\2838016178.py:1: FutureWarning: `multichannel` is a deprecated argument name for `hog`. It will be removed in version 1.0. Please use `channel_axis` instead.\n",
      "  fd, hog_image = hog(resized, orientations=9, pixels_per_cell=(8, 8),\n"
     ]
    },
    {
     "data": {
      "image/png": "[encoded data removed]",
      "text/plain": [
       "<Figure size 640x480 with 1 Axes>"
      ]
     },
     "metadata": {},
     "output_type": "display_data"
    }
   ],
   "source": [
    "fd, hog_image = hog(resized, orientations=9, pixels_per_cell=(8, 8),\n",
    "                    cells_per_block=(2, 2), visualize=True, multichannel=True)\n",
    "plt.axis(\"off\")\n",
    "plt.imshow(hog_image, cmap=\"gray\")\n",
    "plt.show()"
   ]
  },
  {
   "cell_type": "code",
   "execution_count": 45,
   "id": "c831cbdb",
   "metadata": {},
   "outputs": [
    {
     "data": {
      "text/plain": [
       "(70308,)"
      ]
     },
     "execution_count": 45,
     "metadata": {},
     "output_type": "execute_result"
    }
   ],
   "source": [
    "fd.shape"
   ]
  },
  {
   "cell_type": "code",
   "execution_count": 566,
   "id": "2b73bae7",
   "metadata": {},
   "outputs": [],
   "source": [
    "#This function takes in an array of shape (n,3072), sharpens the color image and converts it to grayscale; \n",
    "#returns a new array with shape (n,1024)\n",
    "\n",
    "def sharpen(data):\n",
    "    \n",
    "    from PIL import Image\n",
    "    \n",
    "    arr = np.empty(1024, dtype=None)\n",
    "    kernel = np.array([[0, -1, 0],\n",
    "                   [-1, 5,-1],\n",
    "                   [0, -1, 0]])  \n",
    "    \n",
    "    for i in range(data.shape[0]):\n",
    "        img=data[i].reshape(3,32,32)\n",
    "        img = img.transpose(1,2,0)\n",
    "   \n",
    "        img = cv.filter2D(src=img, ddepth=-1, kernel=kernel)\n",
    "    \n",
    "        gray=Image.fromarray(img).convert('L')\n",
    "        arr = np.vstack((arr,np.array(gray).reshape(1024).astype(int))).astype(int)\n",
    "        \n",
    "    return arr"
   ]
  },
  {
   "cell_type": "markdown",
   "id": "e16687bb",
   "metadata": {},
   "source": [
    "### let's take a look at the data"
   ]
  },
  {
   "cell_type": "code",
   "execution_count": 534,
   "id": "671d518f",
   "metadata": {},
   "outputs": [
    {
     "data": {
      "text/plain": [
       "<matplotlib.image.AxesImage at 0x12dd9c621c0>"
      ]
     },
     "execution_count": 534,
     "metadata": {},
     "output_type": "execute_result"
    },
    {
     "data": {
      "image/png": "[encoded data removed]",
      "text/plain": [
       "<Figure size 640x480 with 1 Axes>"
      ]
     },
     "metadata": {},
     "output_type": "display_data"
    }
   ],
   "source": [
    "img=cifar['training_data'][2].reshape(3,32,32)\n",
    "img = img.transpose(1,2,0)\n",
    "plt.imshow(img)"
   ]
  },
  {
   "cell_type": "code",
   "execution_count": 535,
   "id": "4b99d6e5",
   "metadata": {},
   "outputs": [],
   "source": [
    "kernel = np.array([[0, -1, 0],\n",
    "                   [-1, 5,-1],\n",
    "                   [0, -1, 0]])\n",
    "img = cv.filter2D(src=img, ddepth=-1, kernel=kernel)"
   ]
  },
  {
   "cell_type": "code",
   "execution_count": 537,
   "id": "66acb3c7",
   "metadata": {},
   "outputs": [
    {
     "data": {
      "text/plain": [
       "<matplotlib.image.AxesImage at 0x12dd9cd2730>"
      ]
     },
     "execution_count": 537,
     "metadata": {},
     "output_type": "execute_result"
    },
    {
     "data": {
      "image/png": "[encoded data removed]",
      "text/plain": [
       "<Figure size 640x480 with 1 Axes>"
      ]
     },
     "metadata": {},
     "output_type": "display_data"
    }
   ],
   "source": [
    "plt.imshow(img)"
   ]
  },
  {
   "cell_type": "code",
   "execution_count": 439,
   "id": "42b5f452",
   "metadata": {},
   "outputs": [
    {
     "data": {
      "text/plain": [
       "array([ 82, 102, 141, ...,  96, 108, 103], dtype=uint8)"
      ]
     },
     "execution_count": 439,
     "metadata": {},
     "output_type": "execute_result"
    }
   ],
   "source": [
    "# image_sharp.reshape(3072)"
   ]
  },
  {
   "cell_type": "code",
   "execution_count": 448,
   "id": "2dfdccec",
   "metadata": {},
   "outputs": [],
   "source": [
    "edge = cv.Canny(np.uint8(img),248,255)"
   ]
  },
  {
   "cell_type": "code",
   "execution_count": 445,
   "id": "61d0bbb6",
   "metadata": {},
   "outputs": [
    {
     "data": {
      "text/plain": [
       "<matplotlib.image.AxesImage at 0x12dd8b939a0>"
      ]
     },
     "execution_count": 445,
     "metadata": {},
     "output_type": "execute_result"
    },
    {
     "data": {
      "image/png": "[encoded data removed]",
      "text/plain": [
       "<Figure size 640x480 with 1 Axes>"
      ]
     },
     "metadata": {},
     "output_type": "display_data"
    }
   ],
   "source": [
    "plt.imshow(edge)"
   ]
  },
  {
   "cell_type": "code",
   "execution_count": 405,
   "id": "f157263b",
   "metadata": {},
   "outputs": [],
   "source": [
    "from PIL import Image"
   ]
  },
  {
   "cell_type": "code",
   "execution_count": 538,
   "id": "b9f06e16",
   "metadata": {},
   "outputs": [],
   "source": [
    "gray=Image.fromarray(img).convert('L')"
   ]
  },
  {
   "cell_type": "code",
   "execution_count": 503,
   "id": "d21e4744",
   "metadata": {},
   "outputs": [
    {
     "data": {
      "image/png": "[encoded data removed]",
      "text/plain": [
       "<PIL.Image.Image image mode=L size=32x32>"
      ]
     },
     "execution_count": 503,
     "metadata": {},
     "output_type": "execute_result"
    }
   ],
   "source": [
    "gray"
   ]
  },
  {
   "cell_type": "code",
   "execution_count": 539,
   "id": "5001f980",
   "metadata": {},
   "outputs": [
    {
     "data": {
      "text/plain": [
       "<matplotlib.image.AxesImage at 0x12dd9d3bd00>"
      ]
     },
     "execution_count": 539,
     "metadata": {},
     "output_type": "execute_result"
    },
    {
     "data": {
      "image/png": "[encoded data removed]",
      "text/plain": [
       "<Figure size 640x480 with 1 Axes>"
      ]
     },
     "metadata": {},
     "output_type": "display_data"
    }
   ],
   "source": [
    "plt.imshow(gray,cmap='gray')"
   ]
  },
  {
   "cell_type": "code",
   "execution_count": null,
   "id": "9da07fd7",
   "metadata": {},
   "outputs": [],
   "source": [
    "# new=sharpen(cifar['training_data'])"
   ]
  },
  {
   "cell_type": "code",
   "execution_count": 18,
   "id": "32ca2fc8",
   "metadata": {},
   "outputs": [],
   "source": [
    "cifar = np.load('data/cifar10-data.npz')"
   ]
  },
  {
   "cell_type": "code",
   "execution_count": 19,
   "id": "497516df",
   "metadata": {},
   "outputs": [],
   "source": [
    "cifar_t_data, cifar_t_labels, cifar_v_data, cifar_v_labels = data_partition(cifar['training_data'],\n",
    "                                                                            cifar['training_labels'],5000)"
   ]
  },
  {
   "cell_type": "code",
   "execution_count": null,
   "id": "decdcb79",
   "metadata": {},
   "outputs": [],
   "source": [
    "cifar_t_scores, cifar_v_scores = sk_svm(cifar_t_data,cifar_t_labels,cifar_v_data,cifar_v_labels,[10000],\n",
    "                                      c= 100,kernel='rbf')"
   ]
  },
  {
   "cell_type": "code",
   "execution_count": 36,
   "id": "fb09217e",
   "metadata": {},
   "outputs": [
    {
     "data": {
      "text/plain": [
       "[0.3548]"
      ]
     },
     "execution_count": 36,
     "metadata": {},
     "output_type": "execute_result"
    }
   ],
   "source": [
    "cifar_v_scores"
   ]
  },
  {
   "cell_type": "markdown",
   "id": "9201df06",
   "metadata": {},
   "source": [
    "## This is for the Kaggle submission"
   ]
  },
  {
   "cell_type": "code",
   "execution_count": 25,
   "id": "49de13a2",
   "metadata": {},
   "outputs": [
    {
     "data": {
      "text/html": [
       "<style>#sk-container-id-2 {color: black;background-color: white;}#sk-container-id-2 pre{padding: 0;}#sk-container-id-2 div.sk-toggleable {background-color: white;}#sk-container-id-2 label.sk-toggleable__label {cursor: pointer;display: block;width: 100%;margin-bottom: 0;padding: 0.3em;box-sizing: border-box;text-align: center;}#sk-container-id-2 label.sk-toggleable__label-arrow:before {content: \"▸\";float: left;margin-right: 0.25em;color: #696969;}#sk-container-id-2 label.sk-toggleable__label-arrow:hover:before {color: black;}#sk-container-id-2 div.sk-estimator:hover label.sk-toggleable__label-arrow:before {color: black;}#sk-container-id-2 div.sk-toggleable__content {max-height: 0;max-width: 0;overflow: hidden;text-align: left;background-color: #f0f8ff;}#sk-container-id-2 div.sk-toggleable__content pre {margin: 0.2em;color: black;border-radius: 0.25em;background-color: #f0f8ff;}#sk-container-id-2 input.sk-toggleable__control:checked~div.sk-toggleable__content {max-height: 200px;max-width: 100%;overflow: auto;}#sk-container-id-2 input.sk-toggleable__control:checked~label.sk-toggleable__label-arrow:before {content: \"▾\";}#sk-container-id-2 div.sk-estimator input.sk-toggleable__control:checked~label.sk-toggleable__label {background-color: #d4ebff;}#sk-container-id-2 div.sk-label input.sk-toggleable__control:checked~label.sk-toggleable__label {background-color: #d4ebff;}#sk-container-id-2 input.sk-hidden--visually {border: 0;clip: rect(1px 1px 1px 1px);clip: rect(1px, 1px, 1px, 1px);height: 1px;margin: -1px;overflow: hidden;padding: 0;position: absolute;width: 1px;}#sk-container-id-2 div.sk-estimator {font-family: monospace;background-color: #f0f8ff;border: 1px dotted black;border-radius: 0.25em;box-sizing: border-box;margin-bottom: 0.5em;}#sk-container-id-2 div.sk-estimator:hover {background-color: #d4ebff;}#sk-container-id-2 div.sk-parallel-item::after {content: \"\";width: 100%;border-bottom: 1px solid gray;flex-grow: 1;}#sk-container-id-2 div.sk-label:hover label.sk-toggleable__label {background-color: #d4ebff;}#sk-container-id-2 div.sk-serial::before {content: \"\";position: absolute;border-left: 1px solid gray;box-sizing: border-box;top: 0;bottom: 0;left: 50%;z-index: 0;}#sk-container-id-2 div.sk-serial {display: flex;flex-direction: column;align-items: center;background-color: white;padding-right: 0.2em;padding-left: 0.2em;position: relative;}#sk-container-id-2 div.sk-item {position: relative;z-index: 1;}#sk-container-id-2 div.sk-parallel {display: flex;align-items: stretch;justify-content: center;background-color: white;position: relative;}#sk-container-id-2 div.sk-item::before, #sk-container-id-2 div.sk-parallel-item::before {content: \"\";position: absolute;border-left: 1px solid gray;box-sizing: border-box;top: 0;bottom: 0;left: 50%;z-index: -1;}#sk-container-id-2 div.sk-parallel-item {display: flex;flex-direction: column;z-index: 1;position: relative;background-color: white;}#sk-container-id-2 div.sk-parallel-item:first-child::after {align-self: flex-end;width: 50%;}#sk-container-id-2 div.sk-parallel-item:last-child::after {align-self: flex-start;width: 50%;}#sk-container-id-2 div.sk-parallel-item:only-child::after {width: 0;}#sk-container-id-2 div.sk-dashed-wrapped {border: 1px dashed gray;margin: 0 0.4em 0.5em 0.4em;box-sizing: border-box;padding-bottom: 0.4em;background-color: white;}#sk-container-id-2 div.sk-label label {font-family: monospace;font-weight: bold;display: inline-block;line-height: 1.2em;}#sk-container-id-2 div.sk-label-container {text-align: center;}#sk-container-id-2 div.sk-container {/* jupyter's `normalize.less` sets `[hidden] { display: none; }` but bootstrap.min.css set `[hidden] { display: none !important; }` so we also need the `!important` here to be able to override the default hidden behavior on the sphinx rendered scikit-learn.org. See: https://github.com/scikit-learn/scikit-learn/issues/21755 */display: inline-block !important;position: relative;}#sk-container-id-2 div.sk-text-repr-fallback {display: none;}</style><div id=\"sk-container-id-2\" class=\"sk-top-container\"><div class=\"sk-text-repr-fallback\"><pre>SVC(C=100)</pre><b>In a Jupyter environment, please rerun this cell to show the HTML representation or trust the notebook. <br />On GitHub, the HTML representation is unable to render, please try loading this page with nbviewer.org.</b></div><div class=\"sk-container\" hidden><div class=\"sk-item\"><div class=\"sk-estimator sk-toggleable\"><input class=\"sk-toggleable__control sk-hidden--visually\" id=\"sk-estimator-id-2\" type=\"checkbox\" checked><label for=\"sk-estimator-id-2\" class=\"sk-toggleable__label sk-toggleable__label-arrow\">SVC</label><div class=\"sk-toggleable__content\"><pre>SVC(C=100)</pre></div></div></div></div></div>"
      ],
      "text/plain": [
       "SVC(C=100)"
      ]
     },
     "execution_count": 25,
     "metadata": {},
     "output_type": "execute_result"
    }
   ],
   "source": [
    "predictor=svm.SVC(C=100, kernel='rbf')\n",
    "predictor.fit(cifar['training_data'][:25000], cifar['training_labels'][:25000])"
   ]
  },
  {
   "cell_type": "code",
   "execution_count": 26,
   "id": "1c1d298d",
   "metadata": {},
   "outputs": [],
   "source": [
    "preds = predictor.predict(cifar['test_data'])"
   ]
  },
  {
   "cell_type": "code",
   "execution_count": 27,
   "id": "928e2bd6",
   "metadata": {},
   "outputs": [],
   "source": [
    "df = pd.DataFrame({'Id': np.linspace(1,len(preds),len(preds),dtype=int), 'Category':preds},dtype=np.int64)\n",
    "df.to_csv('cifar25k_test_preds.csv',index=False)"
   ]
  }
 ],
 "metadata": {
  "kernelspec": {
   "display_name": "Python 3 (ipykernel)",
   "language": "python",
   "name": "python3"
  },
  "language_info": {
   "codemirror_mode": {
    "name": "ipython",
    "version": 3
   },
   "file_extension": ".py",
   "mimetype": "text/x-python",
   "name": "python",
   "nbconvert_exporter": "python",
   "pygments_lexer": "ipython3",
   "version": "3.7.15"
  }
 },
 "nbformat": 4,
 "nbformat_minor": 5
}
